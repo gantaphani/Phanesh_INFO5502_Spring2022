{
  "cells": [
    {
      "cell_type": "markdown",
      "metadata": {
        "id": "view-in-github",
        "colab_type": "text"
      },
      "source": [
        "<a href=\"https://colab.research.google.com/github/gantaphani/Phanesh_INFO5502_Spring2022/blob/main/lab_assignment_02.ipynb\" target=\"_parent\"><img src=\"https://colab.research.google.com/assets/colab-badge.svg\" alt=\"Open In Colab\"/></a>"
      ]
    },
    {
      "cell_type": "markdown",
      "metadata": {
        "id": "Ryk8D1Q4Wsrp"
      },
      "source": [
        "# **The second Lab-assignment (02/04/2022, 50 points in total)**"
      ]
    },
    {
      "cell_type": "markdown",
      "metadata": {
        "id": "90_NR8c5XGWc"
      },
      "source": [
        "# Question 1\n",
        "\n",
        "(5 points). Write a Python program to generate 12 random numbers between 1 and 100. Sort the list of numbers in ascending order and print it out. Sort the list of numbers in descending order and print it out. Calculate the average for the group and print it out."
      ]
    },
    {
      "cell_type": "code",
      "execution_count": 22,
      "metadata": {
        "id": "5QX6bJjGWXY9",
        "outputId": "01866df1-88d0-4fba-d74a-33560eae35b5",
        "colab": {
          "base_uri": "https://localhost:8080/"
        }
      },
      "outputs": [
        {
          "output_type": "stream",
          "name": "stdout",
          "text": [
            "Ascending Order: [19, 26, 29, 31, 36, 37, 47, 49, 54, 68, 82, 89]\n",
            "Descending Order: [89, 82, 68, 54, 49, 47, 37, 36, 31, 29, 26, 19]\n",
            "Average Value: 47.25\n"
          ]
        }
      ],
      "source": [
        "import random\n",
        "from statistics import mean\n",
        "\n",
        "listValues = random.sample(range(1, 100), 12)\n",
        "print(\"Ascending Order:\", sorted(listValues))\n",
        "print(\"Descending Order:\", sorted(listValues, reverse=True))\n",
        "print(\"Average Value:\", round(mean(listValues), 2))"
      ]
    },
    {
      "cell_type": "markdown",
      "metadata": {
        "id": "1F_PZdH9Sh49"
      },
      "source": [
        "# Question 2\n",
        "(20 points). Write a program that will do the following string formatting tasks:\n",
        "\n",
        "(1) Ask the user to enter two sentences.\n",
        "\n",
        "(2) Make each sentence into a list. Each element in the list should correspond to a word in the sentence. For example, if the sentence is \"Alas! Am I alive? This is my first python program\", the program should print out ['Alas, '!', 'Am', 'I', 'alive, '?', 'This', 'is', 'my', 'first', 'python', 'program'].\n",
        "\n",
        "(3) Compare the two sentences. Print out a list of words that occur in both sentences.\n",
        "\n",
        "(4) Remove any punctuation from the sentence and print it back out. It should remove at least the following characters, but it can remove more: period(“.”), comma (“,”), semicolon (“;”), and colon (“:”)\n",
        "\n",
        "(5) Count the number of vowels in the sentences. Print out each vowel and the number of times it appears in the sentences, such as: a:2, e:1, i:0, etc"
      ]
    },
    {
      "cell_type": "code",
      "execution_count": 23,
      "metadata": {
        "colab": {
          "base_uri": "https://localhost:8080/"
        },
        "id": "Y0oOSlsOS0cq",
        "outputId": "b82bb518-a491-4a68-807e-a93fc8f3481e"
      },
      "outputs": [
        {
          "name": "stdout",
          "output_type": "stream",
          "text": [
            "Enter the String 1: Alas! Am I alive? This is my first python program\n",
            "Enter the String 2: alas! Am I alive? This is my first python program\n"
          ]
        }
      ],
      "source": [
        "inputString1 = input(\"Enter the String 1: \")\n",
        "inputString2 = input(\"Enter the String 2: \")"
      ]
    },
    {
      "cell_type": "code",
      "source": [
        "import re\n",
        "\n",
        "\n",
        "def splitWords(inputString: str) -> list:\n",
        "    listValues = inputString.split(' ')\n",
        "    result = listValues.copy()\n",
        "    found = 0\n",
        "\n",
        "    for index, word in enumerate(listValues):\n",
        "        for e, element in enumerate(word):\n",
        "            if not (element.isalnum()):\n",
        "                found += 1\n",
        "\n",
        "                if re.search(\"^[A-z]\", word) or re.search(\"^[0-9]\", word) or (\n",
        "                        e != 0 and (re.search(\"[A-z]\", word[0:e]) or re.search(\"[0-9]\", word[0:e]))):\n",
        "                    result.insert(index + found, element)\n",
        "                else:\n",
        "                    result.insert(index + found - 1, element)\n",
        "\n",
        "                elementIndex = len(result) - (result[::-1].index(listValues[index]) + 1)\n",
        "                result[elementIndex] = listValues[index].replace(element, '', 1)\n",
        "                listValues[index] = listValues[index].replace(element, '', 1)\n",
        "\n",
        "    if '' in result:\n",
        "        result.remove('')\n",
        "\n",
        "    return result\n",
        "\n",
        "\n",
        "def passStrings(inputString1: str, inputString2: str):\n",
        "    listStrings = [inputString1, inputString2]\n",
        "    for listString in listStrings:\n",
        "        print(splitWords(listString))\n",
        "        \n",
        "passStrings(inputString1, inputString2)"
      ],
      "metadata": {
        "colab": {
          "base_uri": "https://localhost:8080/"
        },
        "id": "v7lij2Jb4XKl",
        "outputId": "7f6ede38-16e3-4f36-ad0f-8d3ed7fc6320"
      },
      "execution_count": 24,
      "outputs": [
        {
          "output_type": "stream",
          "name": "stdout",
          "text": [
            "['Alas', '!', 'Am', 'I', 'alive', '?', 'This', 'is', 'my', 'first', 'python', 'program']\n",
            "['alas', '!', 'Am', 'I', 'alive', '?', 'This', 'is', 'my', 'first', 'python', 'program']\n"
          ]
        }
      ]
    },
    {
      "cell_type": "code",
      "source": [
        "def sameWords(inputString1: str, inputString2: str) -> str:\n",
        "    inputString1=''.join(e for e in inputString1 if e==\" \" or e.isalnum())\n",
        "    inputString2=''.join(e for e in inputString2 if e==\" \" or e.isalnum())\n",
        "\n",
        "    listString1 = inputString1.lower().split(' ')\n",
        "    listString2 = inputString2.lower().split(' ')\n",
        "    result = list()\n",
        "    \n",
        "    for value in listString1:\n",
        "        if value in listString2 and value not in result:\n",
        "                result.append(value)\n",
        "\n",
        "    return str.format(f\"common words are:{result}\")\n",
        "\n",
        "print(sameWords(inputString1, inputString2))"
      ],
      "metadata": {
        "colab": {
          "base_uri": "https://localhost:8080/"
        },
        "id": "YEjuxYvd4uT7",
        "outputId": "dd1b5be4-cb13-441b-b512-477705593941"
      },
      "execution_count": 25,
      "outputs": [
        {
          "output_type": "stream",
          "name": "stdout",
          "text": [
            "common words are:['alas', 'am', 'i', 'alive', 'this', 'is', 'my', 'first', 'python', 'program']\n"
          ]
        }
      ]
    },
    {
      "cell_type": "code",
      "source": [
        "def removeSpecial(inputString1: str, inputString2: str) -> str:\n",
        "    inputString1=''.join(e for e in inputString1 if e==\" \" or e.isalnum())\n",
        "    inputString2=''.join(e for e in inputString2 if e==\" \" or e.isalnum())\n",
        "\n",
        "    yield (\"First sentence is :\"+inputString1)\n",
        "    yield (\"Second sentence is :\"+inputString2)\n",
        "    \n",
        "for value in removeSpecial(inputString1, inputString2):\n",
        "  print(value)"
      ],
      "metadata": {
        "colab": {
          "base_uri": "https://localhost:8080/"
        },
        "id": "iC8Z4NsM45D0",
        "outputId": "d266046a-9c05-4a67-ac76-11ff0ec2c499"
      },
      "execution_count": 26,
      "outputs": [
        {
          "output_type": "stream",
          "name": "stdout",
          "text": [
            "First sentence is :Alas Am I alive This is my first python program\n",
            "Second sentence is :alas Am I alive This is my first python program\n"
          ]
        }
      ]
    },
    {
      "cell_type": "code",
      "source": [
        "def countVowels(inputString1: str, inputString2: str) -> dict:\n",
        "    listValues = [inputString1.lower(), inputString2.lower()]\n",
        "    vowels = ['a', 'e', 'i', 'o', 'u']\n",
        "    result = dict.fromkeys(vowels, 0)\n",
        "\n",
        "    for inputString in listValues:\n",
        "        for element in inputString:\n",
        "            if element in vowels:\n",
        "                if element in result:\n",
        "                    result[element] += 1\n",
        "                else:\n",
        "                    result[element] = 1\n",
        "    return result\n",
        "  \n",
        "print(countVowels(inputString1, inputString2))"
      ],
      "metadata": {
        "colab": {
          "base_uri": "https://localhost:8080/"
        },
        "id": "FjwW0V5a6Q1N",
        "outputId": "3777d952-7ba9-4000-f9cb-69b5ee5dc37c"
      },
      "execution_count": 27,
      "outputs": [
        {
          "output_type": "stream",
          "name": "stdout",
          "text": [
            "{'a': 10, 'e': 2, 'i': 10, 'o': 4, 'u': 0}\n"
          ]
        }
      ]
    },
    {
      "cell_type": "markdown",
      "metadata": {
        "id": "CmFoI4jDS9nx"
      },
      "source": [
        "# Question 3 \n",
        "\n",
        "(5 points). The formula that describes the volume V of a sphere with radius r is the following:\n",
        "\n",
        "$ V=\\frac{4}{3}\\ast\\ \\pi\\ast\\ r^3 $\n",
        "\n",
        "Write a program to calculate the value of V when r is in the range of 1–10. Output the result in the following format:\n",
        "\n",
        "\tr\tV\n",
        "\t1\t…\n",
        "\t2\t…\n",
        "\t3\t…\n"
      ]
    },
    {
      "cell_type": "code",
      "execution_count": 28,
      "metadata": {
        "colab": {
          "base_uri": "https://localhost:8080/"
        },
        "id": "pEyqeioAT95b",
        "outputId": "775e2156-972f-482e-8e8e-ab2ae7089c06"
      },
      "outputs": [
        {
          "output_type": "stream",
          "name": "stdout",
          "text": [
            "r\tV\n",
            "1      4.19\n",
            "2      33.51\n",
            "3      113.1\n",
            "4      268.08\n",
            "5      523.6\n",
            "6      904.78\n",
            "7      1436.76\n",
            "8      2144.66\n",
            "9      3053.63\n",
            "10      4188.79\n"
          ]
        }
      ],
      "source": [
        "from math import pi\n",
        "\n",
        "\n",
        "def calculateVolume():\n",
        "    print(\"r\tV\")\n",
        "    for i in range(1, 11):\n",
        "        print(i ,\"    \" , round((4.0 / 3.0) * pi * pow(i, 3),2))\n",
        "\n",
        "\n",
        "calculateVolume()"
      ]
    },
    {
      "cell_type": "markdown",
      "metadata": {
        "id": "z3tBE7E-Xn5X"
      },
      "source": [
        "# Question 4\n",
        "\n",
        "(20 points). In the field of Data Science, data is often formatted as a comma-delimited (CSV) file, where each line in a file corresponds to a field's value. Refer to Chapter 9 (p. 106) for more information on comma-delimited files. To answer this question, you will need to download the file [lab_assignment_02_denton_housing.csv](https://raw.githubusercontent.com/unt-iialab/info5502-spring2022/main/datasets/lab_assignment_02_denton_housing.csv) included with this assignment. The file [lab_assignment_02_denton_housing.csv](https://raw.githubusercontent.com/unt-iialab/info5502-spring2022/main/datasets/lab_assignment_02_denton_housing.csv) contains statistics about housing in the city of Denton from 2008 to 2014. Write a program to implement the following questions.\n",
        "\n",
        "(1) (10 pts) Calculate the difference in the number of Occupied Housing Units from year to year and print it. The difference must be calculated for the consecutive years such as 2008-2009, 2009-2010 etc. Finally, print the values in the ascending order.\n",
        "\n",
        "(2) (10 pts) For all the years, calculate the percentage of housing units which are vacant an occupied. Print the results in the following format:\n",
        "\n",
        "Year Vacant Housing Units Occupied Housing Units\n",
        "\n",
        "    2008  30%   70%                          \n",
        "\t2009 ----- -----\n",
        "\t2010 ----- -----\n",
        "    2011 ----- -----\n",
        "\t2012 ----- -----\n",
        "    2013 ----- -----\n",
        "\t2014 ----- -----\n",
        "  \n",
        "  \n",
        "\n",
        "(3) (10 pts) Calculate and print the valued and years in which the highest number of housing units were vacant and occupied. Print the results in the following format:  \n",
        "\n",
        "                              Year\tValue\n",
        "\tVacant Housing Units\t  -----   -----\n",
        "\tOccupied Housing Units\t-----   -----\n",
        "\n",
        "(4) (10 pts) Calculate the harmonic mean of the total housing units and print it out. You can find the information about harmonic mean here: https://ncalculators.com/statistics/harmonic-mean-calculator.htm"
      ]
    },
    {
      "cell_type": "code",
      "execution_count": 29,
      "metadata": {
        "id": "lqGYuHBhcsRH",
        "colab": {
          "base_uri": "https://localhost:8080/"
        },
        "outputId": "69de36ba-4e35-459a-eaee-c0ba07abdefe"
      },
      "outputs": [
        {
          "output_type": "stream",
          "name": "stdout",
          "text": [
            "    Years  Difference\n",
            "2010-2011         303\n",
            "2008-2009         795\n",
            "2011-2012        1404\n",
            "2012-2013        1565\n",
            "2013-2014        2622\n",
            "2009-2010        5091\n"
          ]
        }
      ],
      "source": [
        "import pandas as pd\n",
        "df=pd.read_csv('https://raw.githubusercontent.com/gantaphani/Phanesh_INFO5502_Spring2022/main/lab_assignment_02_denton_housing.csv')\n",
        "occupiedHousingUnits = df.loc[df['title_field'] == 'Occupied Housing Units'].sort_values(by=['year'], ascending=True)\n",
        "\n",
        "occupiedHousingUnits = occupiedHousingUnits.assign(\n",
        "    Years=occupiedHousingUnits['year'].map(str) + '-' + occupiedHousingUnits['year'].shift(-1).fillna(-999).astype(\n",
        "        int).map(str),\n",
        "    Difference=abs(occupiedHousingUnits['value'] - occupiedHousingUnits['value'].shift(-1).fillna(0).astype(int)))\n",
        "occupiedHousingUnits.drop(occupiedHousingUnits[occupiedHousingUnits['Years'].str.contains('--')].index, inplace=True)\n",
        "print(occupiedHousingUnits[['Years', 'Difference']].sort_values(by='Difference', ascending=True).to_string(index=False))"
      ]
    },
    {
      "cell_type": "code",
      "source": [
        "totalHousingUnits = df.loc[df['title_field'] == 'Total Housing Units']\n",
        "vacantHousingUnits = df.loc[df['title_field'] == 'Vacant Housing Units']\n",
        "\n",
        "result = totalHousingUnits.merge(vacantHousingUnits, on='year', how='inner')\n",
        "\n",
        "result['Vacant Housing Units'] = round(((result['value_y'] / result['value_x']) * 100),2).astype(str) + '%'\n",
        "result['Occupied  Housing Units'] = round((((result['value_x'] - result['value_y']) / result['value_x']) * 100),2).astype(\n",
        "    str) + '% '\n",
        "result.drop(['title_field_x', 'title_field_y', 'value_x', 'value_y'], axis=1, inplace=True)\n",
        "result.rename(columns={'year': 'Year'}, inplace=True)\n",
        "print(result.sort_values(by='Year').to_string(index=False))"
      ],
      "metadata": {
        "colab": {
          "base_uri": "https://localhost:8080/"
        },
        "id": "qKp_sOol8wEu",
        "outputId": "51f9ecee-f878-4bba-e98e-3789aef1a15f"
      },
      "execution_count": 30,
      "outputs": [
        {
          "output_type": "stream",
          "name": "stdout",
          "text": [
            " Year Vacant Housing Units Occupied  Housing Units\n",
            " 2008               10.88%                 89.12% \n",
            " 2009                9.07%                 90.93% \n",
            " 2010                8.14%                 91.86% \n",
            " 2011                9.38%                 90.62% \n",
            " 2012                6.68%                 93.32% \n",
            " 2013                 8.8%                  91.2% \n",
            " 2014                5.73%                 94.27% \n"
          ]
        }
      ]
    },
    {
      "cell_type": "code",
      "source": [
        "vacantHousingUnits = df[df['title_field'] == 'Vacant Housing Units'].sort_values(by='value', ascending=False).head(1)\n",
        "occupiedHousingUnits = df[df['title_field'] == 'Occupied Housing Units'].sort_values(by='value', ascending=False).head(\n",
        "    1)\n",
        "result = pd.concat([vacantHousingUnits, occupiedHousingUnits])\n",
        "result = result[['title_field', 'year', 'value']]\n",
        "result.rename(columns={'title_field': '', 'year': 'Year', 'value': 'Value'}, inplace=True)\n",
        "print(result.to_string(index=False))"
      ],
      "metadata": {
        "colab": {
          "base_uri": "https://localhost:8080/"
        },
        "id": "6RNEAGuL9PXF",
        "outputId": "ccb693c6-712c-47ce-ad04-1423e1b70467"
      },
      "execution_count": 31,
      "outputs": [
        {
          "output_type": "stream",
          "name": "stdout",
          "text": [
            "                        Year  Value\n",
            "  Vacant Housing Units  2008   4483\n",
            "Occupied Housing Units  2014  46295\n"
          ]
        }
      ]
    },
    {
      "cell_type": "code",
      "source": [
        "from scipy.stats.mstats import hmean\n",
        "\n",
        "result = df.loc[df['title_field'] == 'Total Housing Units'].groupby('title_field').value.apply(hmean)\n",
        "print(\"Harmonic Mean For\",round(result,2).to_string(header=False))"
      ],
      "metadata": {
        "id": "XCQAiOk9-NK_",
        "outputId": "73e1e157-bcb3-4e2f-d2ed-eb57bef661b3",
        "colab": {
          "base_uri": "https://localhost:8080/"
        }
      },
      "execution_count": 32,
      "outputs": [
        {
          "output_type": "stream",
          "name": "stdout",
          "text": [
            "Harmonic Mean For Total Housing Units    44398.29\n"
          ]
        }
      ]
    }
  ],
  "metadata": {
    "colab": {
      "collapsed_sections": [],
      "name": "lab_assignment_02.ipynb",
      "provenance": [],
      "include_colab_link": true
    },
    "kernelspec": {
      "display_name": "Python 3",
      "language": "python",
      "name": "python3"
    },
    "language_info": {
      "codemirror_mode": {
        "name": "ipython",
        "version": 3
      },
      "file_extension": ".py",
      "mimetype": "text/x-python",
      "name": "python",
      "nbconvert_exporter": "python",
      "pygments_lexer": "ipython3",
      "version": "3.8.5"
    }
  },
  "nbformat": 4,
  "nbformat_minor": 0
}