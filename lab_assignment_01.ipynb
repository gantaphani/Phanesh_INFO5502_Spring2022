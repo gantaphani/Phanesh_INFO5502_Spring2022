{
  "cells": [
    {
      "cell_type": "markdown",
      "metadata": {
        "id": "view-in-github",
        "colab_type": "text"
      },
      "source": [
        "<a href=\"https://colab.research.google.com/github/gantaphani/Phanesh_INFO5502_Spring2022/blob/main/lab_assignment_01.ipynb\" target=\"_parent\"><img src=\"https://colab.research.google.com/assets/colab-badge.svg\" alt=\"Open In Colab\"/></a>"
      ]
    },
    {
      "cell_type": "markdown",
      "metadata": {
        "id": "DymRJbxDBCnf"
      },
      "source": [
        "# **The first Lab-assignment (01/25/2022, 50 points in total)**"
      ]
    },
    {
      "cell_type": "markdown",
      "metadata": {
        "id": "jJDe71iLB616"
      },
      "source": [
        "(1) Write a Python program to count the number of characters in a string. (5 points)\n",
        "\n",
        "Sample String : 'google.com', \n",
        "\n",
        "Expected Result : {'o': 3, 'g': 2, '.': 1, 'e': 1, 'l': 1, 'm': 1, 'c': 1}"
      ]
    },
    {
      "cell_type": "code",
      "execution_count": 28,
      "metadata": {
        "id": "MtKskTzbCLaU",
        "colab": {
          "base_uri": "https://localhost:8080/"
        },
        "outputId": "82045574-c8e3-4604-fec7-bbf293630918"
      },
      "outputs": [
        {
          "output_type": "stream",
          "name": "stdout",
          "text": [
            "{'o': 3, 'g': 2, 'l': 1, 'e': 1, '.': 1, 'c': 1, 'm': 1}\n"
          ]
        }
      ],
      "source": [
        "from collections import Counter\n",
        "\n",
        "\n",
        "def returnCount(inputString: str) -> dict:\n",
        "    return dict(sorted(dict(Counter(inputString)).items(), key=lambda x: x[1], reverse=True))\n",
        "\n",
        "inputString = \"google.com\"\n",
        "print(returnCount(inputString))"
      ]
    },
    {
      "cell_type": "markdown",
      "metadata": {
        "id": "55W9AMdXCSpV"
      },
      "source": [
        "(2) Write a Python program to sum all the items in a list. (5 points)"
      ]
    },
    {
      "cell_type": "code",
      "execution_count": 29,
      "metadata": {
        "id": "I57NXsauCec2",
        "colab": {
          "base_uri": "https://localhost:8080/"
        },
        "outputId": "b5c012a7-e339-469e-ae51-3d6ce4c12d6b"
      },
      "outputs": [
        {
          "output_type": "stream",
          "name": "stdout",
          "text": [
            "16\n"
          ]
        }
      ],
      "source": [
        "def returnSum(lists: list) -> int:\n",
        "    return sum(lists)\n",
        "\n",
        "\n",
        "lists = [2, 3, 5, 6]\n",
        "print(returnSum(lists))"
      ]
    },
    {
      "cell_type": "markdown",
      "metadata": {
        "id": "4ulBZ6yhCi9F"
      },
      "source": [
        "(3) Write a Python program to get a string from a given string where all occurrences of its first char have been changed to '\\$', except the first char itself. (5 points)\n",
        "\n",
        "Sample String : 'restart', \n",
        "\n",
        "Expected Result : 'resta\\$t'"
      ]
    },
    {
      "cell_type": "code",
      "execution_count": 30,
      "metadata": {
        "id": "Fj0XhwbBCw2o",
        "colab": {
          "base_uri": "https://localhost:8080/"
        },
        "outputId": "4e19408e-303a-4e1b-aeae-e803203340ac"
      },
      "outputs": [
        {
          "output_type": "stream",
          "name": "stdout",
          "text": [
            "resta$t\n"
          ]
        }
      ],
      "source": [
        "from collections import Counter\n",
        "\n",
        "\n",
        "def returnDuplicateElement(inputString: str) -> str:\n",
        "    duplicateElement = \"\"\n",
        "    Counts = dict(Counter(inputString))\n",
        "    for key in Counts.keys():\n",
        "        if Counts[key] > 1:\n",
        "            return key\n",
        "\n",
        "\n",
        "def replaceFirstChar(inputstring: str, duplicateElement: str) -> str:\n",
        "    lists = list(inputstring)\n",
        "    skipIndex = 0\n",
        "    for index, value in enumerate(lists):\n",
        "        if value == duplicateElement:\n",
        "            skipIndex += 1\n",
        "            if skipIndex != 1:\n",
        "                lists[index] = '$'\n",
        "    return ''.join(lists)\n",
        "\n",
        "\n",
        "inputstring = \"restart\"\n",
        "print(replaceFirstChar(inputstring, returnDuplicateElement(inputstring)))"
      ]
    },
    {
      "cell_type": "markdown",
      "metadata": {
        "id": "_bIP7s1MCzue"
      },
      "source": [
        "(4) Write a program with python which could accept two parameter a and b to calculate and output the result of S, where \n",
        "\n",
        "$\\ S=3.14*(1+a/b)^3$ (5 points)\n",
        "\n"
      ]
    },
    {
      "cell_type": "code",
      "execution_count": 31,
      "metadata": {
        "id": "w79QilHXD3Mg",
        "colab": {
          "base_uri": "https://localhost:8080/"
        },
        "outputId": "9714c917-6d57-4a83-c5bd-0e69cb53a098"
      },
      "outputs": [
        {
          "output_type": "stream",
          "name": "stdout",
          "text": [
            "25.12\n"
          ]
        }
      ],
      "source": [
        "def calculation(a: int, b: int) -> str:\n",
        "    output = 3.14 * ((1 + (a / b)) ** 3)\n",
        "    return output\n",
        "\n",
        "\n",
        "a = 2\n",
        "b = 2\n",
        "print(calculation(a, b))"
      ]
    },
    {
      "cell_type": "markdown",
      "metadata": {
        "id": "xCa2bK9aD4Q3"
      },
      "source": [
        "(5) Write a Python program to concatenate following dictionaries to create a new one. (5 points)\n",
        "\n",
        "Sample Dictionary : dic1={1:10, 2:20}, dic2={3:30, 4:40}, dic3={5:50,6:60}, \n",
        "\n",
        "Expected Result : {1: 10, 2: 20, 3: 30, 4: 40, 5: 50, 6: 60}\n"
      ]
    },
    {
      "cell_type": "code",
      "execution_count": 32,
      "metadata": {
        "id": "_z4aLqAbEET1",
        "colab": {
          "base_uri": "https://localhost:8080/"
        },
        "outputId": "6e7c5cb3-beb3-41ff-b434-a7550a3247a3"
      },
      "outputs": [
        {
          "output_type": "stream",
          "name": "stdout",
          "text": [
            "{1: 10, 2: 20, 3: 30, 4: 40, 5: 50, 6: 60}\n"
          ]
        }
      ],
      "source": [
        "dict1 = {1: 10, 2: 20}\n",
        "dict2 = {3: 30, 4: 40}\n",
        "dict3 = {5: 50, 6: 60}\n",
        "\n",
        "result = dict1.copy()\n",
        "result.update(dict2)\n",
        "result.update(dict3)\n",
        "print(result)"
      ]
    },
    {
      "cell_type": "markdown",
      "metadata": {
        "id": "0v48Vqa7FrQh"
      },
      "source": [
        "(6) Write a Python program to check whether an element exists within a tuple. (5 points)"
      ]
    },
    {
      "cell_type": "code",
      "execution_count": 33,
      "metadata": {
        "id": "7WEmgq-DF2P1",
        "colab": {
          "base_uri": "https://localhost:8080/"
        },
        "outputId": "8d3b7b34-6918-43ee-d73d-5111951864c8"
      },
      "outputs": [
        {
          "output_type": "stream",
          "name": "stdout",
          "text": [
            "Element does not exists\n"
          ]
        }
      ],
      "source": [
        "def checkExists(inputTuple: tuple, part: int)->str:\n",
        "    if part in inputTuple:\n",
        "      return \"Element exists\"\n",
        "    else:\n",
        "      return \"Element does not exists\"\n",
        "\n",
        "\n",
        "inputTuple = (1, 2, 3)\n",
        "part = 10\n",
        "print(checkExists(inputTuple, part))"
      ]
    },
    {
      "cell_type": "markdown",
      "metadata": {
        "id": "vD5PYLMuGga_"
      },
      "source": [
        "(7) Write a Python program to find maximum and the minimum value in a set. (5 points)"
      ]
    },
    {
      "cell_type": "code",
      "execution_count": 34,
      "metadata": {
        "colab": {
          "base_uri": "https://localhost:8080/"
        },
        "id": "t0D5kdJUGjjw",
        "outputId": "1f8eec17-81f3-4574-e804-a2bca68e4fe5"
      },
      "outputs": [
        {
          "output_type": "stream",
          "name": "stdout",
          "text": [
            "12000 1\n"
          ]
        }
      ],
      "source": [
        "inputSet = {12000, 1, 7}\n",
        "print(max(inputSet), min(inputSet))\n"
      ]
    },
    {
      "cell_type": "markdown",
      "metadata": {
        "id": "uHkd-y5VhVWC"
      },
      "source": [
        "(8) Write a Python program to randomly divide the students in this class into six groups for term projects, each group should have at least 4 students but no more than 6 students (including 6). Here is the students list: (5 points)\n",
        "\n",
        "studnet_list = ['ja0964','sa1198','sb1357','vb0218','sc1229','kg0569','kg0470','sg1297','bg0320','fh0141','jl1252','sk1386',\n",
        "           'ak0956','sk1390','sk1458','sk1313','ak0934','vm0377','nm0618','sm1640','sm1907','gn0108','pr0353','dr0609','ms1500','aos0040','ds0814', 'av0659','nv0234','hy0232']"
      ]
    },
    {
      "cell_type": "code",
      "execution_count": 35,
      "metadata": {
        "id": "3iGbmcOBhTwy",
        "colab": {
          "base_uri": "https://localhost:8080/"
        },
        "outputId": "bb4d992b-f260-4420-e557-748115015a0d"
      },
      "outputs": [
        {
          "output_type": "stream",
          "name": "stdout",
          "text": [
            "['kg0569', 'sk1458', 'sm1640', 'vm0377']\n",
            "['sa1198', 'kg0569', 'sk1458', 'hy0232', 'pr0353', 'vb0218']\n",
            "['av0659', 'fh0141', 'dr0609', 'sk1386', 'vm0377']\n",
            "['ds0814', 'ja0964', 'sc1229', 'sk1458']\n",
            "['sc1229', 'dr0609', 'ja0964', 'jl1252', 'aos0040', 'hy0232']\n",
            "['sg1297', 'fh0141', 'vm0377', 'sm1640', 'av0659', 'aos0040']\n"
          ]
        }
      ],
      "source": [
        "from random import sample, randint\n",
        "\n",
        "inputList = ['ja0964', 'sa1198', 'sb1357', 'vb0218', 'sc1229', 'kg0569', 'kg0470', 'sg1297', 'bg0320', 'fh0141',\n",
        "             'jl1252', 'sk1386', 'ak0956', 'sk1390', 'sk1458', 'sk1313', 'ak0934', 'vm0377', 'nm0618', 'sm1640',\n",
        "             'sm1907', 'gn0108', 'pr0353', 'dr0609', 'ms1500', 'aos0040', 'ds0814', 'av0659', 'nv0234', 'hy0232']\n",
        "count = 6\n",
        "\n",
        "def generation(inputList: list, count: int):\n",
        "    for i in range(count):\n",
        "        print(sample(inputList, randint(4, 6)))\n",
        "\n",
        "generation(inputList, count)"
      ]
    },
    {
      "cell_type": "markdown",
      "metadata": {
        "id": "L5kipH5EjBCu"
      },
      "source": [
        "(9) Write a Python program to find the duplicate elements in a given array of integers. Return -1 If there are no such elements. (5 points)"
      ]
    },
    {
      "cell_type": "code",
      "execution_count": 36,
      "metadata": {
        "id": "_Bry6jp0jBCu",
        "colab": {
          "base_uri": "https://localhost:8080/"
        },
        "outputId": "66a20e0c-9456-4425-d5b2-28498dac9b0c"
      },
      "outputs": [
        {
          "output_type": "stream",
          "name": "stdout",
          "text": [
            "[10]\n"
          ]
        }
      ],
      "source": [
        "from collections import Counter\n",
        "\n",
        "\n",
        "def returnDuplicates(lists: list):\n",
        "    counts = dict(Counter(lists))\n",
        "    duplicates = []\n",
        "    for key in counts.keys():\n",
        "        if counts[key] > 1:\n",
        "            duplicates.append(key)\n",
        "    return duplicates if len(duplicates)>0 else -1\n",
        "\n",
        "\n",
        "lists = [10,10,30,40]\n",
        "print(returnDuplicates(lists))"
      ]
    },
    {
      "cell_type": "markdown",
      "metadata": {
        "id": "XoebSk-ojBCu"
      },
      "source": [
        "(10) Write a Python program to select all the Sundays of a specified year. (5 extra points)"
      ]
    },
    {
      "cell_type": "code",
      "execution_count": 37,
      "metadata": {
        "id": "fxNVC-wojBCu",
        "colab": {
          "base_uri": "https://localhost:8080/"
        },
        "outputId": "17c7e5e6-a267-47f9-8f4c-e487b8e17842"
      },
      "outputs": [
        {
          "output_type": "stream",
          "name": "stdout",
          "text": [
            "1916-01-02\n",
            "1916-01-09\n",
            "1916-01-16\n",
            "1916-01-23\n",
            "1916-01-30\n",
            "1916-02-06\n",
            "1916-02-13\n",
            "1916-02-20\n",
            "1916-02-27\n",
            "1916-03-05\n",
            "1916-03-12\n",
            "1916-03-19\n",
            "1916-03-26\n",
            "1916-04-02\n",
            "1916-04-09\n",
            "1916-04-16\n",
            "1916-04-23\n",
            "1916-04-30\n",
            "1916-05-07\n",
            "1916-05-14\n",
            "1916-05-21\n",
            "1916-05-28\n",
            "1916-06-04\n",
            "1916-06-11\n",
            "1916-06-18\n",
            "1916-06-25\n",
            "1916-07-02\n",
            "1916-07-09\n",
            "1916-07-16\n",
            "1916-07-23\n",
            "1916-07-30\n",
            "1916-08-06\n",
            "1916-08-13\n",
            "1916-08-20\n",
            "1916-08-27\n",
            "1916-09-03\n",
            "1916-09-10\n",
            "1916-09-17\n",
            "1916-09-24\n",
            "1916-10-01\n",
            "1916-10-08\n",
            "1916-10-15\n",
            "1916-10-22\n",
            "1916-10-29\n",
            "1916-11-05\n",
            "1916-11-12\n",
            "1916-11-19\n",
            "1916-11-26\n",
            "1916-12-03\n",
            "1916-12-10\n",
            "1916-12-17\n",
            "1916-12-24\n",
            "1916-12-31\n"
          ]
        }
      ],
      "source": [
        "from datetime import date, timedelta\n",
        "\n",
        "\n",
        "def sundays(year):\n",
        "    temp = []\n",
        "    dt = date(year, 1, 1)\n",
        "    dt += timedelta(days=7 - (dt.weekday()+1))\n",
        "    while dt.year == year:\n",
        "        temp.append(dt)\n",
        "        dt += timedelta(days=7)\n",
        "    return temp\n",
        "\n",
        "\n",
        "listValues = sundays(1916)\n",
        "for value in listValues:\n",
        "    print(value)\n"
      ]
    }
  ],
  "metadata": {
    "colab": {
      "collapsed_sections": [],
      "name": "lab_assignment_01.ipynb",
      "provenance": [],
      "include_colab_link": true
    },
    "kernelspec": {
      "display_name": "Python 3",
      "language": "python",
      "name": "python3"
    },
    "language_info": {
      "codemirror_mode": {
        "name": "ipython",
        "version": 3
      },
      "file_extension": ".py",
      "mimetype": "text/x-python",
      "name": "python",
      "nbconvert_exporter": "python",
      "pygments_lexer": "ipython3",
      "version": "3.8.5"
    }
  },
  "nbformat": 4,
  "nbformat_minor": 0
}