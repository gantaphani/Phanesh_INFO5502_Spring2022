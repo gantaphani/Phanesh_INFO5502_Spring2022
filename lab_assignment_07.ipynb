{
  "cells": [
    {
      "cell_type": "markdown",
      "metadata": {
        "id": "view-in-github",
        "colab_type": "text"
      },
      "source": [
        "<a href=\"https://colab.research.google.com/github/gantaphani/Phanesh_INFO5502_Spring2022/blob/main/lab_assignment_07.ipynb\" target=\"_parent\"><img src=\"https://colab.research.google.com/assets/colab-badge.svg\" alt=\"Open In Colab\"/></a>"
      ]
    },
    {
      "cell_type": "markdown",
      "metadata": {
        "id": "aOPdJJHlAmia"
      },
      "source": [
        "## The seventh Lab-assignment (03/31/2022, 50 points in total)"
      ]
    },
    {
      "cell_type": "markdown",
      "metadata": {
        "id": "LJnfzJo2Amie"
      },
      "source": [
        "The purpose of this exercise is to build several regression models based on real-world datasets. "
      ]
    },
    {
      "cell_type": "markdown",
      "metadata": {
        "id": "PxWQjEyIAmie"
      },
      "source": [
        "### Question 1 (25 points) Build a regession model to predict the change in price of the stock overtime. It can either be linear regression or non-linear regression. You can download the dataset from here: https://github.com/unt-iialab/info5502-spring2022/blob/main/datasets/portfolio_data.csv. The implementation of the LSTM on this same dataset was posted here as an reference: https://www.kaggle.com/code/faressayah/stock-market-analysis-prediction-using-lstm/notebook"
      ]
    },
    {
      "cell_type": "code",
      "execution_count": 1,
      "metadata": {
        "id": "f26qWsW1Amie"
      },
      "outputs": [],
      "source": [
        "#importing necessary modules\n",
        "import pandas as pd\n",
        "import matplotlib.pyplot as plt\n",
        "from datetime import datetime\n",
        "from sklearn.model_selection import train_test_split\n",
        "from sklearn.ensemble import RandomForestRegressor\n",
        "from sklearn.tree import DecisionTreeRegressor\n",
        "from sklearn.linear_model import LinearRegression\n",
        "from sklearn.neighbors import KNeighborsRegressor\n",
        "import numpy as np\n",
        "import math"
      ]
    },
    {
      "cell_type": "code",
      "source": [
        "#reading csv file to dataframe from github \n",
        "df=pd.read_csv('https://raw.githubusercontent.com/unt-iialab/info5502-spring2022/main/datasets/portfolio_data.csv',sep=',')\n",
        "#changing datatype to datetime for Date column\n",
        "df['Date']=pd.to_datetime(df['Date'])\n",
        "print(df.head(5).to_string(index=False))"
      ],
      "metadata": {
        "colab": {
          "base_uri": "https://localhost:8080/"
        },
        "id": "9EVUz4BFH3SU",
        "outputId": "39fe9a04-c828-470b-d0a3-73d037b66fa4"
      },
      "execution_count": 2,
      "outputs": [
        {
          "output_type": "stream",
          "name": "stdout",
          "text": [
            "      Date       AMZN       DPZ        BTC      NFLX\n",
            "2013-05-01 248.229996 51.190983 106.250000 30.415714\n",
            "2013-05-02 252.550003 51.987320  98.099998 30.641428\n",
            "2013-05-03 258.049988 52.446388 112.900002 30.492857\n",
            "2013-05-06 255.720001 53.205257 109.599998 30.098572\n",
            "2013-05-07 257.730011 54.151505 113.199997 29.464285\n"
          ]
        }
      ]
    },
    {
      "cell_type": "code",
      "source": [
        "#Size of the dataframe\n",
        "print('Size of the data frame',df.shape)"
      ],
      "metadata": {
        "colab": {
          "base_uri": "https://localhost:8080/"
        },
        "id": "gVtySiFzKX8J",
        "outputId": "2d516682-b474-4d40-84a6-d744ba178a11"
      },
      "execution_count": 3,
      "outputs": [
        {
          "output_type": "stream",
          "name": "stdout",
          "text": [
            "Size of the data frame (1520, 5)\n"
          ]
        }
      ]
    },
    {
      "cell_type": "code",
      "source": [
        "#checking for null and duplicate values\n",
        "print(df.isnull().sum())\n",
        "print('There are no null values in the dataset\\n')\n",
        "print(df[df.duplicated()])\n",
        "print('There are no duplicate values in the dataset\\n')"
      ],
      "metadata": {
        "colab": {
          "base_uri": "https://localhost:8080/"
        },
        "id": "yMqiITZ0ItRC",
        "outputId": "2d9e008b-08ab-48aa-efb0-96c3598e83e6"
      },
      "execution_count": 4,
      "outputs": [
        {
          "output_type": "stream",
          "name": "stdout",
          "text": [
            "Date    0\n",
            "AMZN    0\n",
            "DPZ     0\n",
            "BTC     0\n",
            "NFLX    0\n",
            "dtype: int64\n",
            "There are no null values in the dataset\n",
            "\n",
            "Empty DataFrame\n",
            "Columns: [Date, AMZN, DPZ, BTC, NFLX]\n",
            "Index: []\n",
            "There are no duplicate values in the dataset\n",
            "\n"
          ]
        }
      ]
    },
    {
      "cell_type": "code",
      "source": [
        "#visualizing netflix stock price over time\n",
        "plt.figure(figsize=(8,8))\n",
        "plt.title('Netflix Stock Prices Over Time',fontsize=16)\n",
        "plt.plot(df.Date,df.NFLX)\n",
        "plt.xlabel('Date',fontsize=14)\n",
        "plt.ylabel('USD ($)',fontsize=14)\n",
        "plt.grid()\n",
        "plt.show()"
      ],
      "metadata": {
        "colab": {
          "base_uri": "https://localhost:8080/",
          "height": 519
        },
        "id": "vjKUxPwDKj1I",
        "outputId": "1da2c059-1a7a-4423-d2b8-9f5937b7bcf6"
      },
      "execution_count": 5,
      "outputs": [
        {
          "output_type": "display_data",
          "data": {
            "text/plain": [
              "<Figure size 576x576 with 1 Axes>"
            ],
            "image/png": "[encoded data removed]"
          },
          "metadata": {
            "needs_background": "light"
          }
        }
      ]
    },
    {
      "cell_type": "code",
      "source": [
        "#Changing the datatype of column Date\n",
        "df['Date'] = pd.to_datetime(df['Date'])\n",
        "df['Date']=df['Date'].map(datetime.toordinal)"
      ],
      "metadata": {
        "id": "230Jku0lpKpZ"
      },
      "execution_count": 6,
      "outputs": []
    },
    {
      "cell_type": "code",
      "source": [
        "#Taking all shares as features for higher accuracy, except the target ones to predict shares of Netflix\n",
        "Features=df[['Date','AMZN','DPZ','BTC']]\n",
        "Targets=df['NFLX']"
      ],
      "metadata": {
        "id": "1X9K1Wt3Mz6L"
      },
      "execution_count": 7,
      "outputs": []
    },
    {
      "cell_type": "code",
      "source": [
        "#Splitting the dataset into training and test sets\n",
        "TrainFeatures,TestFeatures,TrainTargets,TestTargets=train_test_split(Features,Targets,test_size = 0.25, random_state = 42)\n",
        "print(\"Training Features Shape\",TrainFeatures.shape)\n",
        "print(\"Training Targets Shape\",TrainTargets.shape)\n",
        "print(\"Testing Features Shape\",TestFeatures.shape)\n",
        "print(\"Testing Targets Shape\",TestTargets.shape)"
      ],
      "metadata": {
        "colab": {
          "base_uri": "https://localhost:8080/"
        },
        "outputId": "2a61ce02-9709-4ff8-ceec-37af39655bbc",
        "id": "j-xg9LEjTjtE"
      },
      "execution_count": 8,
      "outputs": [
        {
          "output_type": "stream",
          "name": "stdout",
          "text": [
            "Training Features Shape (1140, 4)\n",
            "Training Targets Shape (1140,)\n",
            "Testing Features Shape (380, 4)\n",
            "Testing Targets Shape (380,)\n"
          ]
        }
      ]
    },
    {
      "cell_type": "code",
      "source": [
        "#Building and Training the Linear Regression Model\n",
        "lr=LinearRegression()\n",
        "lr.fit(TrainFeatures,TrainTargets)\n",
        "#Predicting the Netflix shares Set and calcualting root mean squared error\n",
        "linearPredictedValues=lr.predict(TestFeatures)\n",
        "linearPredictedValues"
      ],
      "metadata": {
        "colab": {
          "base_uri": "https://localhost:8080/"
        },
        "id": "0Mbyx-gvUv94",
        "outputId": "8a51a37d-c447-4742-b31e-d35b3cf10028"
      },
      "execution_count": 9,
      "outputs": [
        {
          "output_type": "execute_result",
          "data": {
            "text/plain": [
              "array([ 59.36917186, 355.80873899, 304.66625304, 103.3106885 ,\n",
              "        51.92236939,  40.67141083, 142.3130202 , 342.24950277,\n",
              "        44.13044564,  41.90702287,  50.71362452, 110.00677071,\n",
              "        54.28975358, 319.38329843, 285.41260069,  45.01972522,\n",
              "       124.86766773, 310.99225968, 109.80340006, 288.15855893,\n",
              "        60.25783878,  49.29347309,  89.12502565, 311.84420698,\n",
              "       246.19326044, 180.83374963,  87.72850807, 171.16749788,\n",
              "        54.06481985, 133.03112653,  45.58233955, 398.03670422,\n",
              "       314.67367338, 172.81335893,  85.95548396, 332.71919549,\n",
              "        66.38649388,  53.97840655, 376.35502143, 179.44640026,\n",
              "       146.85047826,  77.08862406, 185.18913682, 180.63111214,\n",
              "       284.56905799, 362.8826413 , 175.56704886, 336.62242218,\n",
              "       129.61971359,  50.58928342,  70.13276899,  55.18146936,\n",
              "       116.69222671,  51.58489092,  94.00091311,  42.78501593,\n",
              "       149.53692905, 192.75937491, 337.91498809, 184.40790035,\n",
              "        49.39532059,  60.40844578,  47.99480322,  99.22122865,\n",
              "       213.37197664,  69.85124788, 136.44011167, 307.69178432,\n",
              "       278.01371714, 295.67534255, 162.84796732, 132.52230361,\n",
              "       311.70501563, 111.83321122, 131.31378049, 126.32044959,\n",
              "        48.8209556 ,  86.46167089,  42.30491705,  45.36796381,\n",
              "       173.90014074,  41.6749795 , 131.85422617,  68.12676435,\n",
              "       270.60195591, 144.61851123,  43.16945948, 109.45360961,\n",
              "        50.30271562, 128.43149417,  65.49586312,  46.61646555,\n",
              "       171.66389788, 164.73612959, 369.78528653,  49.03194408,\n",
              "       170.80479911,  55.44409478,  45.09439646, 151.59679936,\n",
              "       189.34638655,  43.67635548,  43.93613346,  65.20771496,\n",
              "       290.13571506,  40.68774167,  49.66989531, 174.10591814,\n",
              "        51.4992119 , 189.07397218,  89.81411676,  86.08065225,\n",
              "       177.39511363,  42.70558366, 366.92515896,  45.04069345,\n",
              "       304.11378766,  67.91386378,  83.61794553, 121.9066092 ,\n",
              "       124.10640507, 305.38940245,  41.472014  , 128.06177888,\n",
              "        94.46236936, 355.19215622,  91.2848039 , 293.07982628,\n",
              "        45.78258538, 142.19628804, 261.34970926,  42.51522777,\n",
              "       183.46279265,  50.21710878,  53.01563908,  56.02672953,\n",
              "       234.90874798,  54.39428022,  43.24225074, 389.57271374,\n",
              "       145.81780551,  44.85403281,  49.09777323, 282.50665868,\n",
              "       120.42715713, 159.4843077 ,  45.77874823,  41.88657304,\n",
              "       211.64055062, 386.58268594, 143.70164706,  43.45283752,\n",
              "        68.05867492, 112.32198862,  66.39321271,  46.37395277,\n",
              "       129.54485819,  66.80329566,  43.28690135, 159.34749636,\n",
              "       287.45652748, 177.33981241, 312.51306184, 136.80077615,\n",
              "       188.94763444,  66.90505643,  57.99574142, 117.65735872,\n",
              "       377.78595785, 340.57790748, 130.24929075,  95.27725539,\n",
              "        45.73020918, 304.90138869, 299.18412346,  47.62331406,\n",
              "       317.18928337,  51.13931524,  89.69074284, 275.23314208,\n",
              "        52.67425732, 126.54243979, 190.50267251, 152.27439114,\n",
              "       215.44418211,  42.58739521,  58.81483197, 130.7908316 ,\n",
              "        94.6508906 ,  60.30089785,  85.20118751, 332.31614171,\n",
              "       146.08068017, 188.91208191,  80.17759531, 396.15840335,\n",
              "       168.77808546, 177.14259021,  42.80632875,  61.65874992,\n",
              "        44.86963376,  97.3941401 , 164.2523461 , 102.52531186,\n",
              "       335.56306779, 334.32749825,  86.397789  , 356.50674633,\n",
              "       119.48085158, 140.01381651, 334.04778327, 166.53075089,\n",
              "        67.31430162, 108.49291714,  44.35955435, 144.06705804,\n",
              "       101.38031631, 370.6582097 , 133.35869146,  47.16753396,\n",
              "        53.79615689, 250.10599047,  87.99868886,  55.02110242,\n",
              "       178.8266201 ,  76.78870723,  57.5085617 ,  49.00360904,\n",
              "        72.36012393, 174.03820092, 131.45842421, 309.23025576,\n",
              "        48.08026237,  67.82830784,  65.6993393 ,  55.11323292,\n",
              "        98.32779555,  55.41620061,  46.71363611,  44.3527223 ,\n",
              "       199.33563027, 170.17634971,  88.15112656,  60.83650774,\n",
              "       284.03214546,  44.60136196,  49.89816274, 302.24174188,\n",
              "       136.00525277, 138.03810796,  58.15318385,  39.47380037,\n",
              "        47.18948556, 331.65394841, 146.12587499, 152.09228858,\n",
              "       291.16386918, 116.31203559, 371.87217508, 105.16368087,\n",
              "       140.40800427,  69.15577082, 155.38049148, 263.80756812,\n",
              "       391.80399586, 332.4113072 , 107.56166604, 329.77363768,\n",
              "        90.29992491, 259.6639021 , 308.27125923, 158.14227351,\n",
              "       290.85881077, 134.11093284,  50.41948824, 333.05050281,\n",
              "       149.66608021, 308.0065863 ,  92.68605515,  56.79155249,\n",
              "        58.65226395, 316.37563983,  43.70829864,  43.08309887,\n",
              "        48.41925992,  75.05452902,  43.3405189 , 218.21414194,\n",
              "       102.10182447, 265.02842202, 179.89933258, 303.98495503,\n",
              "        45.05378509, 156.05053753, 177.5595921 ,  68.10030246,\n",
              "       219.29202758, 173.31599956, 295.12077578,  52.24548118,\n",
              "        56.05322594,  57.67414101, 310.01720024,  45.13029507,\n",
              "       246.4600911 , 171.52441016, 309.23671177,  48.57309062,\n",
              "       342.08460348, 119.5856361 , 201.78085782, 174.73168366,\n",
              "       331.64670457, 341.80940537,  53.88686851,  85.39600345,\n",
              "       106.45571168,  88.1506264 ,  43.1121601 , 199.98048585,\n",
              "        46.90058906, 167.14411243, 375.32817957, 182.72524577,\n",
              "       183.90950353,  47.26510696, 141.96568038, 303.24979696,\n",
              "       101.52098892, 307.3913418 ,  70.10327226, 159.67783558,\n",
              "       372.72949695, 118.54489897,  56.66095164,  45.59711526,\n",
              "        44.8305046 , 171.24496918,  43.80671331, 344.64300654,\n",
              "       375.54709361, 381.03701129, 146.05815616,  85.23955434,\n",
              "        45.36703696, 324.15706142,  43.16840026,  47.22965569,\n",
              "       361.12615902,  41.01490567, 201.4241531 ,  67.22495358,\n",
              "        41.5664389 , 294.52082036,  62.38138912,  48.86701348,\n",
              "        71.35960313, 187.43447668,  67.02052703, 129.70316203,\n",
              "        44.66802305, 258.1966351 ,  43.1981912 , 214.57667114,\n",
              "        49.39427677, 133.7639214 , 104.71584305, 283.54981557,\n",
              "        44.1251924 , 175.78662018,  58.65236485, 162.59981277,\n",
              "        88.60212786, 216.96822829,  42.68603398, 146.38370888,\n",
              "       314.70168441,  55.1632984 ,  62.64036208,  68.22009206])"
            ]
          },
          "metadata": {},
          "execution_count": 9
        }
      ]
    },
    {
      "cell_type": "code",
      "source": [
        "#Root Mean Squared Error for Linear Regression Model\n",
        "RMSE=math.sqrt(np.square(np.subtract(linearPredictedValues,TestTargets)).mean())\n",
        "print(\"RMSE Error\",RMSE)\n",
        "print(\"Model Score\",lr.score(TrainFeatures,TrainTargets))"
      ],
      "metadata": {
        "id": "46dVdgY1aZLe",
        "colab": {
          "base_uri": "https://localhost:8080/"
        },
        "outputId": "a842d718-3be7-4646-ffac-5b49832e1cbe"
      },
      "execution_count": 10,
      "outputs": [
        {
          "output_type": "stream",
          "name": "stdout",
          "text": [
            "RMSE Error 21.511283185287564\n",
            "Model Score 0.9628535272235781\n"
          ]
        }
      ]
    },
    {
      "cell_type": "markdown",
      "metadata": {
        "id": "g4gfFBFWAmif"
      },
      "source": [
        "#### Question 2 (25 points) The objective of this task is to detect hate speech in tweets. For the sake of simplicity, we say a tweet contains hate speech if it has a racist or sexist sentiment associated with it. So, the task is to classify racist or sexist tweets from other tweets. Formally, given a training sample of tweets and labels, where label '1' denotes the tweet is racist/sexist and label '0' denotes the tweet is not racist/sexist, your objective is to predict the labels on the test dataset. The dataset can be downloaded here: https://github.com/unt-iialab/info5502-spring2022/tree/main/datasets/Twitter%20Sentiment%20Analysis. Please build a logistic regression model for the classification, evaluation metrics include accuracy, precision, recall, and F-1 score need to be reported. "
      ]
    },
    {
      "cell_type": "code",
      "execution_count": 28,
      "metadata": {
        "id": "nCj9N6SzAmig",
        "colab": {
          "base_uri": "https://localhost:8080/"
        },
        "outputId": "7893ede2-58b7-4122-f2d1-a6e364f58c2f"
      },
      "outputs": [
        {
          "output_type": "stream",
          "name": "stdout",
          "text": [
            "[nltk_data] Downloading package words to /root/nltk_data...\n",
            "[nltk_data]   Package words is already up-to-date!\n",
            "[nltk_data] Downloading package stopwords to /root/nltk_data...\n",
            "[nltk_data]   Package stopwords is already up-to-date!\n"
          ]
        }
      ],
      "source": [
        "#importing required modules\n",
        "import pandas as pd\n",
        "import regex as re\n",
        "import nltk\n",
        "import numpy as np\n",
        "from nltk.corpus import stopwords\n",
        "from sklearn.feature_extraction.text import CountVectorizer\n",
        "from sklearn.model_selection import train_test_split\n",
        "from sklearn.linear_model import LogisticRegression\n",
        "from sklearn.metrics import accuracy_score,f1_score,precision_score,recall_score\n",
        "nltk.download('words')\n",
        "nltk.download('stopwords')\n",
        "import warnings\n",
        "warnings.filterwarnings('ignore')"
      ]
    },
    {
      "cell_type": "code",
      "source": [
        "#reading csv files from github\n",
        "trainDataset=pd.read_csv('https://raw.githubusercontent.com/gantaphani/Phanesh_INFO5502_Spring2022/main/train.csv',sep=',')\n",
        "print(str('Training Dataset').center(150))\n",
        "print(trainDataset.head(5).to_string(index=False))\n",
        "print('\\n')\n",
        "testDataset=pd.read_csv('https://raw.githubusercontent.com/gantaphani/Phanesh_INFO5502_Spring2022/main/test.csv',sep=',')\n",
        "print(str('Testing Dataset').center(150))\n",
        "print(testDataset.head(5).to_string(index=False))"
      ],
      "metadata": {
        "colab": {
          "base_uri": "https://localhost:8080/"
        },
        "id": "lCNR2zkjtALD",
        "outputId": "9c64d1bf-c7aa-4f3d-d7f7-2b616436e8ae"
      },
      "execution_count": 29,
      "outputs": [
        {
          "output_type": "stream",
          "name": "stdout",
          "text": [
            "                                                                   Training Dataset                                                                   \n",
            " id  label                                                                                                                      tweet\n",
            "  1      0                      @user when a father is dysfunctional and is so selfish he drags his kids into his dysfunction.   #run\n",
            "  2      0 @user @user thanks for #lyft credit i can't use cause they don't offer wheelchair vans in pdx.    #disapointed #getthanked\n",
            "  3      0                                                                                                        bihday your majesty\n",
            "  4      0                                     #model   i love u take with u all the time in urð±!!! ððððð¦ð¦ð¦  \n",
            "  5      0                                                                                     factsguide: society now    #motivation\n",
            "\n",
            "\n",
            "                                                                   Testing Dataset                                                                    \n",
            "   id                                                                                                                                          tweet\n",
            "31963                                                     #studiolife #aislife #requires #passion #dedication #willpower   to find #newmaterialsâ¦ \n",
            "31964                                           @user #white #supremacists want everyone to see the new â  #birdsâ #movie â and hereâs why  \n",
            "31965                                                                        safe ways to heal your #acne!!    #altwaystoheal #healthy   #healing!! \n",
            "31966 is the hp and the cursed child book up for reservations already? if yes, where? if no, when? ððð   #harrypotter #pottermore #favorite\n",
            "31967                                                    3rd #bihday to my amazing, hilarious #nephew eli ahmir! uncle dave loves you and missesâ¦ \n"
          ]
        }
      ]
    },
    {
      "cell_type": "code",
      "source": [
        "#Checking For Null Values in both the datasets\n",
        "print(trainDataset.any().isna())\n",
        "print('Note there are no null values in the Traning Dataset\\n')\n",
        "print(testDataset.any().isna())\n",
        "print('Note there are no null values in the Testing Dataset')"
      ],
      "metadata": {
        "colab": {
          "base_uri": "https://localhost:8080/"
        },
        "id": "eykJIlv53e_O",
        "outputId": "1eb3aea6-3bec-4a57-ae78-4d9b88035618"
      },
      "execution_count": 30,
      "outputs": [
        {
          "output_type": "stream",
          "name": "stdout",
          "text": [
            "id       False\n",
            "label    False\n",
            "tweet    False\n",
            "dtype: bool\n",
            "Note there are no null values in the Traning Dataset\n",
            "\n",
            "id       False\n",
            "tweet    False\n",
            "dtype: bool\n",
            "Note there are no null values in the Testing Dataset\n"
          ]
        }
      ]
    },
    {
      "cell_type": "code",
      "source": [
        "#Checking For Duplicate values in both the datasets\n",
        "print(trainDataset[trainDataset.duplicated()])\n",
        "print('Note there are no Duplicates in the Traning Dataset\\n')\n",
        "print(testDataset[testDataset.duplicated()])\n",
        "print('Note there are no Duplicates in the Testing Dataset\\n')"
      ],
      "metadata": {
        "colab": {
          "base_uri": "https://localhost:8080/"
        },
        "id": "I02lovKr3obZ",
        "outputId": "42160e73-af45-4dc8-fb9e-383921bc77ac"
      },
      "execution_count": 31,
      "outputs": [
        {
          "output_type": "stream",
          "name": "stdout",
          "text": [
            "Empty DataFrame\n",
            "Columns: [id, label, tweet]\n",
            "Index: []\n",
            "Note there are no Duplicates in the Traning Dataset\n",
            "\n",
            "Empty DataFrame\n",
            "Columns: [id, tweet]\n",
            "Index: []\n",
            "Note there are no Duplicates in the Testing Dataset\n",
            "\n"
          ]
        }
      ]
    },
    {
      "cell_type": "code",
      "source": [
        "def removePunctuation(text:str):\n",
        "  text=re.sub(r'[^\\w\\s]','',text)\n",
        "  return text"
      ],
      "metadata": {
        "id": "CPADl1W262m-"
      },
      "execution_count": 32,
      "outputs": []
    },
    {
      "cell_type": "code",
      "source": [
        "def removeUnwantedSpaces(text:str):\n",
        "  return re.sub(' +', ' ', text)"
      ],
      "metadata": {
        "id": "dXLoXzMD88g-"
      },
      "execution_count": 33,
      "outputs": []
    },
    {
      "cell_type": "code",
      "source": [
        "Englishwords=set(nltk.corpus.words.words())\n",
        "def removeNonEnglishWords(text:str):\n",
        "  return \" \".join(w for w in nltk.wordpunct_tokenize(text) \\\n",
        "         if w.lower() in Englishwords or not w.isalpha())"
      ],
      "metadata": {
        "id": "vHTN_yPNIn4T"
      },
      "execution_count": 34,
      "outputs": []
    },
    {
      "cell_type": "code",
      "source": [
        "trainDataset['tweet']=trainDataset['tweet'].apply(lambda x:removePunctuation(x))\n",
        "trainDataset['tweet']=trainDataset['tweet'].apply(lambda x:removeUnwantedSpaces(x))\n",
        "trainDataset['tweet']=trainDataset['tweet'].apply(lambda x:removeNonEnglishWords(x))\n",
        "print(str('Training Dataset After Cleaning The Tweets').center(100))\n",
        "print(trainDataset.head(5).to_string(index=False))"
      ],
      "metadata": {
        "colab": {
          "base_uri": "https://localhost:8080/"
        },
        "id": "HpOEF0on8JL8",
        "outputId": "dce4245f-8654-430f-ef50-bece76ab2860"
      },
      "execution_count": 35,
      "outputs": [
        {
          "output_type": "stream",
          "name": "stdout",
          "text": [
            "                             Training Dataset After Cleaning The Tweets                             \n",
            " id  label                                                                   tweet\n",
            "  1      0 user when a father is and is so selfish he his into his dysfunction run\n",
            "  2      0         user user thanks for credit i cant use cause they dont offer in\n",
            "  3      0                                                            your majesty\n",
            "  4      0                              model i love u take with u all the time in\n",
            "  5      0                                                  society now motivation\n"
          ]
        }
      ]
    },
    {
      "cell_type": "code",
      "source": [
        "testDataset['tweet']=testDataset['tweet'].apply(lambda x:removePunctuation(x))\n",
        "testDataset['tweet']=testDataset['tweet'].apply(lambda x:removeUnwantedSpaces(x))\n",
        "testDataset['tweet']=testDataset['tweet'].apply(lambda x:removeNonEnglishWords(x))\n",
        "print(str('Testing Dataset After Cleaning The Tweets').center(100))\n",
        "print(testDataset.head(5).to_string(index=False))"
      ],
      "metadata": {
        "colab": {
          "base_uri": "https://localhost:8080/"
        },
        "id": "4gzghf0PMNjI",
        "outputId": "ea8fd390-7d68-4679-8617-dbc67b752f07"
      },
      "execution_count": 36,
      "outputs": [
        {
          "output_type": "stream",
          "name": "stdout",
          "text": [
            "                             Testing Dataset After Cleaning The Tweets                              \n",
            "   id                                                                            tweet\n",
            "31963                                                       passion dedication to find\n",
            "31964                            user white want everyone to see the new movie and why\n",
            "31965                                      safe ways to heal your acne healthy healing\n",
            "31966 is the and the cursed child book up for already if yes where if no when favorite\n",
            "31967                                 3rd to my amazing hilarious nephew uncle you and\n"
          ]
        }
      ]
    },
    {
      "cell_type": "code",
      "source": [
        "#vectorizing the tweets\n",
        "vector=CountVectorizer()\n",
        "vector.fit(trainDataset['tweet'].append(testDataset['tweet'], ignore_index=True))\n",
        "\n",
        "trainVector=vector.transform(trainDataset['tweet'])\n",
        "testVector=vector.transform(testDataset['tweet'])"
      ],
      "metadata": {
        "id": "_1E-7gpBP92H"
      },
      "execution_count": 37,
      "outputs": []
    },
    {
      "cell_type": "code",
      "source": [
        "#splitting the data into training and testing sets\n",
        "x_train, x_test, y_train, y_test = train_test_split(\n",
        "    trainVector, trainDataset['label'].values, test_size=0.08, random_state=0)\n",
        "\n",
        "print(x_train.shape)\n",
        "print(y_train.shape)\n",
        "print(x_test.shape)\n",
        "print(y_test.shape)"
      ],
      "metadata": {
        "colab": {
          "base_uri": "https://localhost:8080/"
        },
        "id": "IB7OsKy2VdJj",
        "outputId": "43c79a5e-b5a6-4d97-aa0a-22345c79f35f"
      },
      "execution_count": 38,
      "outputs": [
        {
          "output_type": "stream",
          "name": "stdout",
          "text": [
            "(29405, 15278)\n",
            "(29405,)\n",
            "(2557, 15278)\n",
            "(2557,)\n"
          ]
        }
      ]
    },
    {
      "cell_type": "code",
      "source": [
        "#Building and fitting the Logistic Regression Model\n",
        "lr=LogisticRegression(random_state=0)\n",
        "lr.fit(x_train,y_train)"
      ],
      "metadata": {
        "colab": {
          "base_uri": "https://localhost:8080/"
        },
        "id": "ra1Un0JcWM-G",
        "outputId": "e3f77b49-b996-4986-e0a7-9d397ce4d5d0"
      },
      "execution_count": 39,
      "outputs": [
        {
          "output_type": "execute_result",
          "data": {
            "text/plain": [
              "LogisticRegression(random_state=0)"
            ]
          },
          "metadata": {},
          "execution_count": 39
        }
      ]
    },
    {
      "cell_type": "code",
      "source": [
        "#predicting the label\n",
        "pred_values=lr.predict(x_test)\n",
        "print(pred_values)"
      ],
      "metadata": {
        "colab": {
          "base_uri": "https://localhost:8080/"
        },
        "id": "3RUwLfnBXBBj",
        "outputId": "89a7fc88-b9f1-49d7-fa41-6418232c295c"
      },
      "execution_count": 40,
      "outputs": [
        {
          "output_type": "stream",
          "name": "stdout",
          "text": [
            "[0 0 0 ... 0 0 0]\n"
          ]
        }
      ]
    },
    {
      "cell_type": "code",
      "source": [
        "#Calculating accuracy of the model\n",
        "print('Accuracy of the model:',accuracy_score(y_test,pred_values))"
      ],
      "metadata": {
        "colab": {
          "base_uri": "https://localhost:8080/"
        },
        "id": "EegfiY8bbeGN",
        "outputId": "8e90913c-e630-4bda-f112-a58d077693ae"
      },
      "execution_count": 41,
      "outputs": [
        {
          "output_type": "stream",
          "name": "stdout",
          "text": [
            "Accuracy of the model: 0.9534610872115761\n"
          ]
        }
      ]
    },
    {
      "cell_type": "code",
      "source": [
        "#Calculating precision score of the model\n",
        "print('precision score of the model:',precision_score(y_test,pred_values))"
      ],
      "metadata": {
        "colab": {
          "base_uri": "https://localhost:8080/"
        },
        "id": "Nok0ERbuby3m",
        "outputId": "ecc6a12b-caef-4af8-eade-4275a7ae871a"
      },
      "execution_count": 42,
      "outputs": [
        {
          "output_type": "stream",
          "name": "stdout",
          "text": [
            "precision score of the model: 0.7407407407407407\n"
          ]
        }
      ]
    },
    {
      "cell_type": "code",
      "source": [
        "#Calculating recall score of the model\n",
        "print('recall score of the model:',recall_score(y_test,pred_values))"
      ],
      "metadata": {
        "colab": {
          "base_uri": "https://localhost:8080/"
        },
        "id": "4l5ZADFdbzYf",
        "outputId": "7610473d-4f0d-49c3-b1ce-faf24baf1467"
      },
      "execution_count": 43,
      "outputs": [
        {
          "output_type": "stream",
          "name": "stdout",
          "text": [
            "recall score of the model: 0.379746835443038\n"
          ]
        }
      ]
    },
    {
      "cell_type": "code",
      "source": [
        "#Calculating f1 score of the model\n",
        "print('f1-score of the model:',f1_score(y_test,pred_values))"
      ],
      "metadata": {
        "colab": {
          "base_uri": "https://localhost:8080/"
        },
        "id": "r6CxaBhObIbR",
        "outputId": "e27011cb-ec85-4cec-ebb4-cdd7d9400aa6"
      },
      "execution_count": 44,
      "outputs": [
        {
          "output_type": "stream",
          "name": "stdout",
          "text": [
            "f1-score of the model: 0.502092050209205\n"
          ]
        }
      ]
    },
    {
      "cell_type": "code",
      "source": [
        "#predicting label for actual Testing Dataset\n",
        "testDataset['label']=lr.predict(testVector)\n",
        "print(testDataset.head(5).to_string(index=False))"
      ],
      "metadata": {
        "colab": {
          "base_uri": "https://localhost:8080/"
        },
        "id": "dGv1DpnjcYLX",
        "outputId": "d15e28e7-6766-4389-ceff-cd48070841fc"
      },
      "execution_count": 45,
      "outputs": [
        {
          "output_type": "stream",
          "name": "stdout",
          "text": [
            "   id                                                                            tweet  label\n",
            "31963                                                       passion dedication to find      0\n",
            "31964                            user white want everyone to see the new movie and why      0\n",
            "31965                                      safe ways to heal your acne healthy healing      0\n",
            "31966 is the and the cursed child book up for already if yes where if no when favorite      0\n",
            "31967                                 3rd to my amazing hilarious nephew uncle you and      0\n"
          ]
        }
      ]
    }
  ],
  "metadata": {
    "kernelspec": {
      "display_name": "Python 3",
      "language": "python",
      "name": "python3"
    },
    "language_info": {
      "codemirror_mode": {
        "name": "ipython",
        "version": 3
      },
      "file_extension": ".py",
      "mimetype": "text/x-python",
      "name": "python",
      "nbconvert_exporter": "python",
      "pygments_lexer": "ipython3",
      "version": "3.8.5"
    },
    "colab": {
      "name": "lab_assignment_07.ipynb",
      "provenance": [],
      "collapsed_sections": [],
      "include_colab_link": true
    }
  },
  "nbformat": 4,
  "nbformat_minor": 0
}