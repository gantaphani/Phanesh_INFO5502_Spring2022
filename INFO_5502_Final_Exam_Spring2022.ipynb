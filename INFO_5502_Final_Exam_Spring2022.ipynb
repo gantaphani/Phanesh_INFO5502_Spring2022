{
  "cells": [
    {
      "cell_type": "markdown",
      "metadata": {
        "id": "view-in-github",
        "colab_type": "text"
      },
      "source": [
        "<a href=\"https://colab.research.google.com/github/gantaphani/Phanesh_INFO5502_Spring2022/blob/main/INFO_5502_Final_Exam_Spring2022.ipynb\" target=\"_parent\"><img src=\"https://colab.research.google.com/assets/colab-badge.svg\" alt=\"Open In Colab\"/></a>"
      ]
    },
    {
      "cell_type": "markdown",
      "metadata": {
        "id": "Dk1fDILAwHC8"
      },
      "source": [
        "### INFO 5502 Final Exam (05/12/2022, 240 points in total)"
      ]
    },
    {
      "cell_type": "markdown",
      "metadata": {
        "id": "i2O8U7z3wHC-"
      },
      "source": [
        "<span style='background:yellow'>**Question 1 (40 pt).**</span> We want to create a birthday frequency graph using the data on births in the United States, provided by the Centers for Disease Control (CDC). You can download the data from my GitHub link:https://github.com/unt-iialab/info5502-spring2022/blob/main/datasets/births.csv \n",
        "\n",
        "Please visualize the data as the following figure using python (you can use any data visualization packages):\n"
      ]
    },
    {
      "cell_type": "code",
      "execution_count": 50,
      "metadata": {
        "id": "gDe8NgQ6wHC_"
      },
      "outputs": [],
      "source": [
        "import pandas as pd\n",
        "import numpy as np\n",
        "import matplotlib.pyplot as plt\n",
        "import warnings\n",
        "warnings.filterwarnings(\"ignore\")"
      ]
    },
    {
      "cell_type": "code",
      "source": [
        "df=pd.read_csv('https://raw.githubusercontent.com/unt-iialab/info5502-spring2022/main/datasets/births.csv',sep=',')\n",
        "print(df.head(5).to_string())"
      ],
      "metadata": {
        "colab": {
          "base_uri": "https://localhost:8080/"
        },
        "id": "CWhAhbFHwK64",
        "outputId": "0c77a689-5d66-4574-8b4b-8157f6b90b93"
      },
      "execution_count": 51,
      "outputs": [
        {
          "output_type": "stream",
          "name": "stdout",
          "text": [
            "   year  month  day gender  births\n",
            "0  1969      1  1.0      F    4046\n",
            "1  1969      1  1.0      M    4440\n",
            "2  1969      1  2.0      F    4454\n",
            "3  1969      1  2.0      M    4548\n",
            "4  1969      1  3.0      F    4548\n"
          ]
        }
      ]
    },
    {
      "cell_type": "code",
      "source": [
        "print(df.isnull().sum())\n",
        "print('\\nNote there are null values, so need to delete them')"
      ],
      "metadata": {
        "colab": {
          "base_uri": "https://localhost:8080/"
        },
        "id": "XW93RF_41Xdn",
        "outputId": "05ebc12e-0bb8-4137-9035-a3760ea1a5b7"
      },
      "execution_count": 52,
      "outputs": [
        {
          "output_type": "stream",
          "name": "stdout",
          "text": [
            "year        0\n",
            "month       0\n",
            "day       480\n",
            "gender      0\n",
            "births      0\n",
            "dtype: int64\n",
            "\n",
            "Note there are null values, so need to delete them\n"
          ]
        }
      ]
    },
    {
      "cell_type": "code",
      "source": [
        "df.dropna(inplace=True)\n",
        "print(df.isnull().sum())\n",
        "print('\\nNote there are no null values')"
      ],
      "metadata": {
        "colab": {
          "base_uri": "https://localhost:8080/"
        },
        "id": "4gxF57bw1ZuP",
        "outputId": "8fba81c0-c9c2-4e74-b4b2-c63c4e60a339"
      },
      "execution_count": 53,
      "outputs": [
        {
          "output_type": "stream",
          "name": "stdout",
          "text": [
            "year      0\n",
            "month     0\n",
            "day       0\n",
            "gender    0\n",
            "births    0\n",
            "dtype: int64\n",
            "\n",
            "Note there are no null values\n"
          ]
        }
      ]
    },
    {
      "cell_type": "code",
      "source": [
        "#visualizing birth frequency\n",
        "parts = np.percentile(df['births'], [20, 40, 60])\n",
        "mu, sigma = parts[1], 0.7* (parts[2] - parts[0])\n",
        "births = df.query('(births>@mu-4*@sigma) & (births<@mu+4*@sigma)')\n",
        "births.index = pd.to_datetime(10000 * births.year + 100 * births.month + births.day, format='%Y%m%d')\n",
        "\n",
        "birthsByDate = births.pivot_table('births', [births.index.month, births.index.day])\n",
        "birthsByDate.index = [pd.datetime(2012, month, day) for (month, day) in birthsByDate.index]"
      ],
      "metadata": {
        "id": "gkXc1IG-BQoA"
      },
      "execution_count": 54,
      "outputs": []
    },
    {
      "cell_type": "code",
      "source": [
        "fig, ax = plt.subplots(figsize=(8, 8))\n",
        "plt.title(\"USA births by day of year (1969 to 1988)\")\n",
        "plt.ylabel('average daily births',fontsize=14)\n",
        "birthsByDate.plot(ax=ax)\n",
        "plt.grid()\n",
        "plt.show()"
      ],
      "metadata": {
        "colab": {
          "base_uri": "https://localhost:8080/",
          "height": 510
        },
        "id": "f28tpQvZDoZd",
        "outputId": "d8ab9acb-66bd-45a9-ea37-3a44254482a7"
      },
      "execution_count": 55,
      "outputs": [
        {
          "output_type": "display_data",
          "data": {
            "text/plain": [
              "<Figure size 576x576 with 1 Axes>"
            ],
            "image/png": "[encoded data removed]"
          },
          "metadata": {
            "needs_background": "light"
          }
        }
      ]
    },
    {
      "cell_type": "markdown",
      "metadata": {
        "id": "PnCF0tniwHC_"
      },
      "source": [
        "<span style='background:yellow'>**Question 2 (40 pt).**</span> Write a python program to evaluate the text classification performance using accuracy, precision, recall, and f1 score. \n",
        "\n",
        "Accuracy = (TP + TN) / (TP+ TN+ FP+ FN)\n",
        "\n",
        "Recall = (TP) / (TP+FN)\n",
        "\n",
        "Precision = (TP) / (TP+FP)\n",
        "\n",
        "F1 Score = (2*Precision*Recall) / (Precision + Recall)\n",
        "\n",
        "Here is the confusion matrix of a text classfication task (six categories) on the testing data. \n"
      ]
    },
    {
      "cell_type": "code",
      "execution_count": 56,
      "metadata": {
        "id": "ToFtZo0twHDA",
        "colab": {
          "base_uri": "https://localhost:8080/"
        },
        "outputId": "d317ffd0-73f2-46c7-e306-00e9816bc2a7"
      },
      "outputs": [
        {
          "output_type": "stream",
          "name": "stdout",
          "text": [
            "The f1 score of class0 is 0.626746506986028\n",
            "The recall of class0 is 0.6738197424892703\n",
            "The precision of class0 is 0.585820895522388\n",
            "The accuracy of class0 is 0.8139303482587065\n",
            "The f1 score of class1 is 0.583011583011583\n",
            "The recall of class1 is 0.5613382899628253\n",
            "The precision of class1 is 0.606425702811245\n",
            "The accuracy of class1 is 0.7850746268656716\n",
            "The f1 score of class2 is 0.598669623059867\n",
            "The recall of class2 is 0.5555555555555556\n",
            "The precision of class2 is 0.6490384615384616\n",
            "The accuracy of class2 is 0.8199004975124378\n",
            "The f1 score of class3 is 0.5384615384615384\n",
            "The recall of class3 is 0.5147058823529411\n",
            "The precision of class3 is 0.5645161290322581\n",
            "The accuracy of class3 is 0.8805970149253731\n",
            "The f1 score of class4 is 0.5863874345549738\n",
            "The recall of class4 is 0.6511627906976745\n",
            "The precision of class4 is 0.5333333333333333\n",
            "The accuracy of class4 is 0.9213930348258706\n",
            "The f1 score of class5 is 0.3595505617977528\n",
            "The recall of class5 is 0.42105263157894735\n",
            "The precision of class5 is 0.3137254901960784\n",
            "The accuracy of class5 is 0.9432835820895522\n"
          ]
        }
      ],
      "source": [
        "import numpy as np\n",
        "confusionMatrix = [[157,46,25,22,15,3],\n",
        "              [28,151,45,18,1,6],\n",
        "              [11,38,135,14,3,7],\n",
        "              [11,15,18,70,6,4],\n",
        "              [14,12,14,7,56,2],\n",
        "              [12,7,6,5,5,16]]\n",
        "\n",
        "conf = np.array(confusionMatrix)\n",
        "for i in range(len(conf)):\n",
        "    \n",
        "    accr = 0\n",
        "    Precision = 0\n",
        "    Recall = 0\n",
        "    f1score = 0\n",
        "    \n",
        "    TP = conf[i,i]\n",
        "    FP = conf[i,:].sum()-TP\n",
        "    FN = conf[:,i].sum()-TP\n",
        "    TN = conf.sum().sum()-(TP+FP+FN)\n",
        "    \n",
        "    accr = (TP+TN)/(TP+ TN+ FP+ FN)\n",
        "    Precision = TP/(TP+FP)\n",
        "    Recall = TP/(TP+FN)\n",
        "    f1score = 2*Precision*Recall/(Precision+Recall)\n",
        "       \n",
        "    print(f'The f1 score of class{i} is {f1score}')\n",
        "    print(f'The recall of class{i} is {Recall}')\n",
        "    print(f'The precision of class{i} is {Precision}')\n",
        "    print(f'The accuracy of class{i} is {accr}')"
      ]
    },
    {
      "cell_type": "markdown",
      "metadata": {
        "id": "1BKJ2-0PwHDA"
      },
      "source": [
        "<span style='background:yellow'>**Question 3 (100 pt, each sub-question is 10 pt).**</span> \n",
        "\n",
        "Part A: Given Inetd dataset, an intrusion detection dataset that contains 2 columns. The first column represents a process ID number (PID) and the second column represents a system call. The goal is to extract the entire system call sequence by its PID, then tokenize and parse each sequence into 25-grams. After this, we’ll split the data into training and testing sets. Next, we ensure data quality in the training dataset by removing duplicate sequences within each class and overlapped sequences between both classes. To ensure a fair evaluation, we also clean the testing set by repeating the previous step. You will implement a Decision Tree model to train and test on the training set and testing set that we just clean. \n",
        "\n",
        "\n",
        "Part B: As the data type is sequential, we want to know how similar the sequences from both classes are and visualize how the similarity scores vary in different sequence lengths. Compute a cosine similarity score of 100 random pairs from both classes and get a median cosine similarity. Repeat this step in different sequence lengths (5, 10, 15, and 20). Plot a line chart to visualize how the median cosine similarities vary through sequence lengths of 5 to 25. \n",
        "\n",
        "You can download the datasets from github: https://github.com/unt-iialab/info5502-spring2022/tree/main/finalexam/q4\n",
        "\n",
        "\n",
        "Step by step instructions and questions:\n",
        "\n",
        "(1) Attached are the Normal and Intrusion data folders. Read in the data and store them in two separate dataframes. Combine the system calls (the second column) from the same PID (the first column) into a sequence or a string. \n",
        "\n",
        "(2) Parse an entire sequence into smaller sequences of size 25. (Hint: Use word_tokenize and ngrams from nltk library to parse).\n",
        "\n",
        "(3) Add labels to the data, and partition the labeled data into training data and testing data with a ratio of 70/30.\n",
        "\n",
        "(4) As the dataset has a lot of duplicate sequences, make sure that the testing data only contain unique sequences and that these sequences do not exist in the training data. Condense training data and testing data into two sets. Take the difference between the testing set and training set to remove the overlapped sequences from the testing data. \n",
        "\n",
        "(5) The sequences from each class can be repetitive, and some of these sequences may have different labels. Therefore, we need to remove the duplicate sequences within each class and the overlapped sequences from the Intrusion class. Start out by separating the Normal class and Intrusion class in the training data. Use the same concept in Question 4 to remove duplicate sequences and overlapped sequences from the training data.\n",
        "\n",
        "(6) Repeat Question 5 to clean the testing data.\n",
        "\n",
        "(7) Bootstrap the training data to get the same number of sequences from each class. Train and evaluate a Decision Tree model using the training data and testing data that we just clean. How is the performance?\n",
        "\n",
        "(8) Randomly sample 100 pairs of sequences from both classes and calculate the median cosine similarity.\n",
        "\n",
        "(9) Refer back to Question 2, parse the data into a length of 5, 10, 15, and 20. Clean the data from each class using Question 5. For each sequence length, calculate the median cosine similarity of 100 random pairs of sequences from both classes. \n",
        "\n",
        "(10) Plot a line chart to visualize how the median cosine similarities vary through different sequence lengths from 5 to 25.\n"
      ]
    },
    {
      "cell_type": "code",
      "execution_count": 32,
      "metadata": {
        "id": "Cvm2GNvSwHDG"
      },
      "outputs": [],
      "source": [
        "import pandas as pd\n",
        "from sklearn.model_selection import train_test_split\n",
        "from sklearn.tree import DecisionTreeRegressor\n",
        "import numpy as np\n",
        "import math\n",
        "import re\n",
        "from nltk.util import ngrams\n",
        "import matplotlib.pyplot as plt\n",
        "import seaborn as sns"
      ]
    },
    {
      "cell_type": "code",
      "source": [
        "normalSet=pd.read_csv('https://raw.githubusercontent.com/unt-iialab/info5502-spring2022/main/finalexam/q4/inetd-normal.int',sep=' ',header=None)\n",
        "print(str(\"!!!NORMAL SET!!!\").center(100))\n",
        "print(normalSet.head(5).to_string())\n",
        "intrusionSet=pd.read_csv('https://raw.githubusercontent.com/unt-iialab/info5502-spring2022/main/finalexam/q4/inetd-intrusion.int',sep=' ',header=None)\n",
        "print(str(\"!!!INTRUSION SET!!!\").center(100))\n",
        "print(intrusionSet.head(5).to_string())"
      ],
      "metadata": {
        "colab": {
          "base_uri": "https://localhost:8080/"
        },
        "id": "v0paCsbn5eQ2",
        "outputId": "f253ea46-24df-4724-db72-f93d7c86d41d"
      },
      "execution_count": 33,
      "outputs": [
        {
          "output_type": "stream",
          "name": "stdout",
          "text": [
            "                                          !!!NORMAL SET!!!                                          \n",
            "     0    1\n",
            "0  167   90\n",
            "1  167  125\n",
            "2  167  125\n",
            "3  167  106\n",
            "4  167    5\n",
            "                                        !!!INTRUSION SET!!!                                         \n",
            "     0    1\n",
            "0  167   90\n",
            "1  167  125\n",
            "2  167  125\n",
            "3  167  106\n",
            "4  167    5\n"
          ]
        }
      ]
    },
    {
      "cell_type": "code",
      "source": [
        "normalSet.rename(columns = {0:'PID', 1:'System Call'}, inplace = True)\n",
        "intrusionSet.rename(columns = {0:'PID', 1:'System Call'}, inplace = True)"
      ],
      "metadata": {
        "id": "i6nHjx1h-MFV"
      },
      "execution_count": 34,
      "outputs": []
    },
    {
      "cell_type": "code",
      "source": [
        "intrusion_dict = {}\n",
        "normal_dict = {}\n",
        "\n",
        "# combining system calls\n",
        "for pid in list(set(intrusionSet['PID'].values)):\n",
        "    intrusion_dict[pid] = \" \".join(str(value) for value in list(intrusionSet[intrusionSet['PID'] == pid]['System Call'].values))\n",
        "\n",
        "for pid in list(set(normalSet['PID'].values)):\n",
        "    normal_dict[pid] = \" \".join(str(value) for value in list(normalSet[normalSet['PID'] == pid]['System Call'].values))\n",
        "\n",
        "intrusion_dict[167]"
      ],
      "metadata": {
        "colab": {
          "base_uri": "https://localhost:8080/",
          "height": 36
        },
        "id": "wCbsRAqVpGBc",
        "outputId": "bdaad0c6-78b6-46f7-96b1-29308c22ac25"
      },
      "execution_count": 35,
      "outputs": [
        {
          "output_type": "execute_result",
          "data": {
            "text/plain": [
              "'90 125 125 106 5 90 6 5 3 90 90 90 90 6 125 91 125 125 125 136 49 24 47 50 45 45 5 106 106 106 106 106 2 1'"
            ],
            "application/vnd.google.colaboratory.intrinsic+json": {
              "type": "string"
            }
          },
          "metadata": {},
          "execution_count": 35
        }
      ]
    },
    {
      "cell_type": "code",
      "source": [
        "import re\n",
        "from nltk.util import ngrams\n",
        "intrusion_list = []\n",
        "normal_list = []\n",
        "\n",
        "# generating ngrams with sequence length of 25\n",
        "\n",
        "for key in intrusion_dict.keys():\n",
        "    s = intrusion_dict[key]\n",
        "    tokens = [token for token in s.split(\" \") if token != \"\"]\n",
        "    \n",
        "    for ele in list(ngrams(tokens, 25)):\n",
        "        intrusion_list.append(ele)\n",
        "        \n",
        "for key in normal_dict.keys():\n",
        "    s = normal_dict[key]\n",
        "    tokens = [token for token in s.split(\" \") if token != \"\"]\n",
        "    \n",
        "    for ele in list(ngrams(tokens, 25)):\n",
        "        normal_list.append(ele) \n",
        "\n",
        "print(len(intrusion_list))\n",
        "print(len(normal_list))"
      ],
      "metadata": {
        "colab": {
          "base_uri": "https://localhost:8080/"
        },
        "id": "szLDv6VnpBTj",
        "outputId": "dc341291-26c9-4d96-fe06-6307427cce90"
      },
      "execution_count": 36,
      "outputs": [
        {
          "output_type": "stream",
          "name": "stdout",
          "text": [
            "7627\n",
            "469\n"
          ]
        }
      ]
    },
    {
      "cell_type": "code",
      "source": [
        "#Checking For Null Values in both the datasets\n",
        "print(normalSet.any().isna())\n",
        "print('Note there are no null values in the Normal Dataset\\n')\n",
        "print(intrusionSet.any().isna())\n",
        "print('Note there are no null values in the Intrusion Dataset')"
      ],
      "metadata": {
        "colab": {
          "base_uri": "https://localhost:8080/"
        },
        "id": "8OO6f127rt-j",
        "outputId": "d4d74d08-72c0-46cd-b6a4-8f8c105835af"
      },
      "execution_count": 37,
      "outputs": [
        {
          "output_type": "stream",
          "name": "stdout",
          "text": [
            "PID            False\n",
            "System Call    False\n",
            "dtype: bool\n",
            "Note there are no null values in the Normal Dataset\n",
            "\n",
            "PID            False\n",
            "System Call    False\n",
            "dtype: bool\n",
            "Note there are no null values in the Intrusion Dataset\n"
          ]
        }
      ]
    },
    {
      "cell_type": "code",
      "source": [
        "#Checking For Duplicate values in both the datasets\n",
        "print(str(\"Before updating the dataset\").center(100))\n",
        "print(normalSet[normalSet.duplicated()])\n",
        "print('Note there are Duplicates in the Normal Dataset\\n')\n",
        "print(intrusionSet[intrusionSet.duplicated()])\n",
        "print('Note there are Duplicates in the Intrusion Dataset\\n')"
      ],
      "metadata": {
        "colab": {
          "base_uri": "https://localhost:8080/"
        },
        "id": "cfqmIh-urwax",
        "outputId": "49746dd9-38e0-496e-e4c4-811e09b7893a"
      },
      "execution_count": 38,
      "outputs": [
        {
          "output_type": "stream",
          "name": "stdout",
          "text": [
            "                                    Before updating the dataset                                     \n",
            "      PID  System Call\n",
            "2     167          125\n",
            "5     167           90\n",
            "7     167            5\n",
            "9     167           90\n",
            "10    167           90\n",
            "..    ...          ...\n",
            "535  2669            6\n",
            "536  2669            6\n",
            "537  2669            6\n",
            "538  2669            6\n",
            "539  2669            6\n",
            "\n",
            "[489 rows x 2 columns]\n",
            "Note there are Duplicates in the Normal Dataset\n",
            "\n",
            "       PID  System Call\n",
            "2      167          125\n",
            "5      167           90\n",
            "7      167            5\n",
            "9      167           90\n",
            "10     167           90\n",
            "...    ...          ...\n",
            "8365  4470            6\n",
            "8366  4470            6\n",
            "8367  4470            6\n",
            "8368  4470            6\n",
            "8369  4470            6\n",
            "\n",
            "[8018 rows x 2 columns]\n",
            "Note there are Duplicates in the Intrusion Dataset\n",
            "\n"
          ]
        }
      ]
    },
    {
      "cell_type": "code",
      "source": [
        "print(str('Before deleting the duplicates').center(100))\n",
        "print('Size of Normal Dataset',normalSet.shape)\n",
        "print('Size of Intrusion Dataset',intrusionSet.shape)"
      ],
      "metadata": {
        "colab": {
          "base_uri": "https://localhost:8080/"
        },
        "id": "sQiZfT2dryyo",
        "outputId": "f1c9c9b1-91d6-4b32-e915-ee3903d45c54"
      },
      "execution_count": 39,
      "outputs": [
        {
          "output_type": "stream",
          "name": "stdout",
          "text": [
            "                                   Before deleting the duplicates                                   \n",
            "Size of Normal Dataset (541, 2)\n",
            "Size of Intrusion Dataset (8371, 2)\n"
          ]
        }
      ]
    },
    {
      "cell_type": "code",
      "source": [
        "normalSet.drop_duplicates(inplace=True)\n",
        "intrusionSet.drop_duplicates(inplace=True)"
      ],
      "metadata": {
        "id": "_QcfkJCsrzH_"
      },
      "execution_count": 40,
      "outputs": []
    },
    {
      "cell_type": "code",
      "source": [
        "#Checking For Duplicate values in both the datasets\n",
        "print(str(\"After updating the dataset\").center(100))\n",
        "print(normalSet[normalSet.duplicated()])\n",
        "print('Note there are no Duplicates in the Normal Dataset\\n')\n",
        "print(intrusionSet[intrusionSet.duplicated()])\n",
        "print('Note there are no Duplicates in the Intrusion Dataset\\n')"
      ],
      "metadata": {
        "colab": {
          "base_uri": "https://localhost:8080/"
        },
        "id": "8Urd1fKqr2sl",
        "outputId": "a778f5bb-8a51-46b8-8549-e93c25879636"
      },
      "execution_count": 41,
      "outputs": [
        {
          "output_type": "stream",
          "name": "stdout",
          "text": [
            "                                     After updating the dataset                                     \n",
            "Empty DataFrame\n",
            "Columns: [PID, System Call]\n",
            "Index: []\n",
            "Note there are no Duplicates in the Normal Dataset\n",
            "\n",
            "Empty DataFrame\n",
            "Columns: [PID, System Call]\n",
            "Index: []\n",
            "Note there are no Duplicates in the Intrusion Dataset\n",
            "\n"
          ]
        }
      ]
    },
    {
      "cell_type": "code",
      "source": [
        "print(str('After deleting the duplicates').center(100))\n",
        "print('Size of Normal Dataset',normalSet.shape)\n",
        "print('Size of Intrusion Dataset',intrusionSet.shape)"
      ],
      "metadata": {
        "colab": {
          "base_uri": "https://localhost:8080/"
        },
        "id": "RGfyMBnhr6FE",
        "outputId": "63ac1e6b-7719-4ed5-f767-109551d301a3"
      },
      "execution_count": 42,
      "outputs": [
        {
          "output_type": "stream",
          "name": "stdout",
          "text": [
            "                                   After deleting the duplicates                                    \n",
            "Size of Normal Dataset (52, 2)\n",
            "Size of Intrusion Dataset (353, 2)\n"
          ]
        }
      ]
    },
    {
      "cell_type": "code",
      "source": [
        "combinedDataset = normalSet.append(intrusionSet, ignore_index=True)\n",
        "combinedDataset['System Call'] = combinedDataset['System Call'].astype(str)\n",
        "combinedDataset['System Call'] = combinedDataset.groupby('PID')['System Call'].transform(lambda x: ','.join(x))\n",
        "combinedDataset.drop_duplicates(inplace=True)\n",
        "print(combinedDataset.head(5))"
      ],
      "metadata": {
        "colab": {
          "base_uri": "https://localhost:8080/"
        },
        "id": "Qs_MHbCwr8bA",
        "outputId": "09a2cb27-74bb-4c79-8915-d1cee704171c"
      },
      "execution_count": 43,
      "outputs": [
        {
          "output_type": "stream",
          "name": "stdout",
          "text": [
            "      PID                                        System Call\n",
            "0     167  90,125,106,5,6,3,91,136,49,24,47,50,45,2,1,90,...\n",
            "15    168  66,12,5,63,6,20,108,90,4,91,76,3,126,45,19,102...\n",
            "41   2669                    126,5,45,108,90,3,19,6,91,63,11\n",
            "93   4121                    126,5,45,108,90,3,19,6,91,63,11\n",
            "104  4152                    126,5,45,108,90,3,19,6,91,63,11\n"
          ]
        }
      ]
    },
    {
      "cell_type": "code",
      "source": [
        "Features=normalSet[['PID']]\n",
        "Targets=normalSet['System Call']"
      ],
      "metadata": {
        "id": "cP3TeDFQNOGP"
      },
      "execution_count": 44,
      "outputs": []
    },
    {
      "cell_type": "code",
      "source": [
        "#Splitting the dataset into training and test sets\n",
        "TrainFeatures,TestFeatures,TrainTargets,TestTargets=train_test_split(Features,Targets,test_size = 0.30, random_state = 42)\n",
        "print(\"Training Features Shape\",TrainFeatures.shape)\n",
        "print(\"Training Targets Shape\",TrainTargets.shape)\n",
        "print(\"Testing Features Shape\",TestFeatures.shape)\n",
        "print(\"Testing Targets Shape\",TestTargets.shape)"
      ],
      "metadata": {
        "colab": {
          "base_uri": "https://localhost:8080/"
        },
        "id": "L0s4KLWuNdOd",
        "outputId": "cc21d04e-158e-41cf-adab-68ae80d53a21"
      },
      "execution_count": 45,
      "outputs": [
        {
          "output_type": "stream",
          "name": "stdout",
          "text": [
            "Training Features Shape (36, 1)\n",
            "Training Targets Shape (36,)\n",
            "Testing Features Shape (16, 1)\n",
            "Testing Targets Shape (16,)\n"
          ]
        }
      ]
    },
    {
      "cell_type": "code",
      "source": [
        "#Building and Training the Decision Tree Regression Model\n",
        "dt=DecisionTreeRegressor(max_depth=10)\n",
        "dt.fit(TrainFeatures,TrainTargets)\n",
        "#Predicting on the Test Set and calcualting root mean squared error\n",
        "decisionPredictedValues=dt.predict(TestFeatures)\n",
        "decisionPredictedValues"
      ],
      "metadata": {
        "colab": {
          "base_uri": "https://localhost:8080/"
        },
        "id": "AwTB-JtBN6is",
        "outputId": "9cd9e367-f159-44d8-ba38-8347058c6d3e"
      },
      "execution_count": 46,
      "outputs": [
        {
          "output_type": "execute_result",
          "data": {
            "text/plain": [
              "array([61.47619048, 44.85714286, 44.85714286, 72.375     , 44.85714286,\n",
              "       72.375     , 61.47619048, 44.85714286, 72.375     , 61.47619048,\n",
              "       72.375     , 72.375     , 61.47619048, 72.375     , 61.47619048,\n",
              "       72.375     ])"
            ]
          },
          "metadata": {},
          "execution_count": 46
        }
      ]
    },
    {
      "cell_type": "code",
      "source": [
        "#Root Mean Squared Error for Decision Tree Regression Model\n",
        "RMSE=math.sqrt(np.square(np.subtract(decisionPredictedValues,TestTargets)).mean())\n",
        "print(\"RMSE Error\",RMSE)\n",
        "print(\"Model Score\",dt.score(TrainFeatures,TrainTargets))"
      ],
      "metadata": {
        "colab": {
          "base_uri": "https://localhost:8080/"
        },
        "id": "4mGffHGXOxQ6",
        "outputId": "e01416e4-e256-4544-e3c3-d18291a5426f"
      },
      "execution_count": 47,
      "outputs": [
        {
          "output_type": "stream",
          "name": "stdout",
          "text": [
            "RMSE Error 48.93622689411712\n",
            "Model Score 0.042935653664576634\n"
          ]
        }
      ]
    },
    {
      "cell_type": "code",
      "source": [
        "cosineSimilarNgram = {}\n",
        "\n",
        "for ngram in range(5, 26, 5):\n",
        "\n",
        "    intrusionSet = pd.read_csv(\"https://raw.githubusercontent.com/unt-iialab/info5502-spring2022/main/finalexam/q4/inetd-intrusion.int\", sep = \" \", header = None)\n",
        "    normalSet = pd.read_csv(\"https://raw.githubusercontent.com/unt-iialab/info5502-spring2022/main/finalexam/q4/inetd-normal.int\", sep = \" \", header = None)\n",
        "\n",
        "    normalSet.rename(columns = {0:'PID', 1:'System Call'}, inplace = True)\n",
        "    intrusionSet.rename(columns = {0:'PID', 1:'System Call'}, inplace = True)\n",
        "\n",
        "    normalDict = {}\n",
        "    intrusionDict = {}\n",
        "\n",
        "    for pid in list(set(normalSet['PID'].values)):\n",
        "        normalDict[pid] = \" \".join(str(value) for value in list(normalSet[normalSet['PID'] == pid]['System Call'].values))\n",
        "\n",
        "    for pid in list(set(intrusionSet['PID'].values)):\n",
        "        intrusionDict[pid] = \" \".join(str(value) for value in list(intrusionSet[intrusionSet['PID'] == pid]['System Call'].values))\n",
        "   \n",
        "    normalList = []\n",
        "    intrusionList = []\n",
        "\n",
        "    for key in normalDict.keys():\n",
        "        s = normalDict[key]\n",
        "        tokens = [token for token in s.split(\" \") if token != \"\"]\n",
        "\n",
        "        for ele in list(ngrams(tokens, ngram)):\n",
        "            normalList.append(ele)\n",
        "\n",
        "    for key in intrusionDict.keys():\n",
        "        s = intrusionDict[key]\n",
        "        tokens = [token for token in s.split(\" \") if token != \"\"]\n",
        "\n",
        "        for ele in list(ngrams(tokens, ngram)):\n",
        "            intrusionList.append(ele)\n",
        "    \n",
        "    normal_df = pd.DataFrame(normalList)\n",
        "    intrusion_df = pd.DataFrame(intrusionList)\n",
        "\n",
        "    normal_df['class'] = 0\n",
        "    intrusion_df['class'] = 1\n",
        "\n",
        "    combined_df = pd.DataFrame()\n",
        "\n",
        "    combined_df = combined_df.append(intrusion_df)\n",
        "    combined_df = combined_df.append(normal_df)\n",
        "\n",
        "    print(combined_df.shape)\n",
        "    print()\n",
        "\n",
        "    combined_df = combined_df.drop_duplicates(subset = combined_df.columns[:-1], keep = 'last')\n",
        "    print(combined_df.shape)\n",
        "    print()\n",
        "\n",
        "    from sklearn.metrics.pairwise import cosine_similarity\n",
        "    import statistics\n",
        "\n",
        "    similarities_list = []\n",
        "    for i in range(0, 100):\n",
        "        list1 = list(combined_df[combined_df['class'] == 0].sample(n = 1).iloc[0, :].values)\n",
        "        list2 = list(combined_df[combined_df['class'] == 1].sample(n = 1).iloc[0, :].values)\n",
        "        try:\n",
        "            similarities_list.append(cosine_similarity([list1], [list2]))\n",
        "        except Exception as e:\n",
        "            print(e)\n",
        "            print(list1, list2)\n",
        "\n",
        "    print(statistics.median(similarities_list)[0][0])\n",
        "    print()\n",
        "    cosineSimilarNgram[ngram] = statistics.median(similarities_list)[0][0]"
      ],
      "metadata": {
        "colab": {
          "base_uri": "https://localhost:8080/"
        },
        "id": "Xo5eyIVukGM0",
        "outputId": "4cc9da8e-9ec6-4d79-a71e-f2742b131e8e"
      },
      "execution_count": 48,
      "outputs": [
        {
          "output_type": "stream",
          "name": "stdout",
          "text": [
            "(8776, 6)\n",
            "\n",
            "(168, 6)\n",
            "\n",
            "0.7995498059163749\n",
            "\n",
            "(8606, 11)\n",
            "\n",
            "(213, 11)\n",
            "\n",
            "0.718674840354171\n",
            "\n",
            "(8436, 16)\n",
            "\n",
            "(254, 16)\n",
            "\n",
            "0.6962768351489168\n",
            "\n",
            "(8266, 21)\n",
            "\n",
            "(293, 21)\n",
            "\n",
            "0.7223210475101314\n",
            "\n",
            "(8096, 26)\n",
            "\n",
            "(333, 26)\n",
            "\n",
            "0.7191911106105028\n",
            "\n"
          ]
        }
      ]
    },
    {
      "cell_type": "code",
      "source": [
        "cosine_similar_ngram_df = pd.DataFrame({\"Ngram\":list(cosineSimilarNgram.keys()), \"Similarity_scores\": list(cosineSimilarNgram.values())})\n",
        "plt.rcParams['figure.figsize'] = [10, 7]\n",
        "\n",
        "sns.lineplot(x = \"Ngram\", y = \"Similarity_scores\", data = cosine_similar_ngram_df)\n",
        "\n",
        "plt.xlabel(\"Ngram\",fontsize=14)\n",
        "plt.ylabel(\"scores\",fontsize=14)    \n",
        "plt.title(\"cosine similarity\")\n",
        "plt.show()"
      ],
      "metadata": {
        "colab": {
          "base_uri": "https://localhost:8080/",
          "height": 462
        },
        "id": "5WA_R_E9mqx-",
        "outputId": "af541f7f-69ff-43a9-e754-1f8045969721"
      },
      "execution_count": 49,
      "outputs": [
        {
          "output_type": "display_data",
          "data": {
            "text/plain": [
              "<Figure size 720x504 with 1 Axes>"
            ],
            "image/png": "[encoded data removed]"
          },
          "metadata": {
            "needs_background": "light"
          }
        }
      ]
    },
    {
      "cell_type": "markdown",
      "metadata": {
        "id": "DjPGKPOVwHDH"
      },
      "source": [
        "<span style='background:yellow'>**Question 4 (60 pt, each sub-question is 20 pt).**</span> In the world of business, the importance of the customers’ reviews for any product is not ignorable. The impact of customers’ reviews on customer’s decision making is significant. Therefore, businesses try to increase this impact by increasing the ratio of the positive reviews to negative reviews. One effective way to increase the ratio is offering the incentives such as small gifts or free next services to customers to post the reviews for item they purchase or used. However, it is not always the case, and customer may post their reviews without receiving or accepting the incentives. So, the reviews could be in either incentivized or non-incentivized category.\n",
        "\n",
        "\n",
        "Considering the importance of reviews, in this question you need to compare these two categories of reviews. One method to compare the effectiveness of two categories is conducting the A/B testing.\n",
        "\n",
        "\n",
        "The Software_Reviews dataset is collected from software review products, and it is combination of several small datasets. Find the dataset as an attachment on the left side of the page.\n",
        "\n",
        "\n",
        "You can downlaod the dataset from github: https://github.com/unt-iialab/info5502-spring2022/blob/main/finalexam/Software_Reviews_csv_files_S.csv\n",
        "\n",
        "(1) Clean the dataset before you use (You need to know this dataset is combinations of the several CSV files with title rows. So, there are extra title rows in the middle of the file, which they need to be removed.)\n",
        "\n",
        "\n",
        "(2) Apply an A/B test\": consider the “incentivized” column as main column for A & B groups.\n",
        "\n",
        "a. The “incentivized” column includes ‘NominalGift’, ‘VendorReferredIncentivized’, ‘NoIncentive’, ‘NonNominalGift’, ‘VendorReferred’, ‘None’\n",
        "\n",
        "b. Group A (Incentive): ‘NominalGift’, and ‘VendorReferredIncentivized’\n",
        "\n",
        "c. Group B (NoIncentive): ‘NoIncentive’, ‘NonNominalGift’, ‘VendorReferred’\n",
        "\n",
        "d. Make the decision if ‘None’ includes in either Group A or B or remove that.\n",
        "\n",
        "e. The “OverAllRating” is another column that is used to compare groups A and B.\n",
        "\n",
        "Which one A or B group has higher “OverAllRating”?\n",
        "\n",
        "\n",
        "(3) Draw the A/B testing related visualizations."
      ]
    },
    {
      "cell_type": "code",
      "execution_count": 57,
      "metadata": {
        "id": "6f_umMoHwHDI"
      },
      "outputs": [],
      "source": [
        "import pandas as pd\n",
        "from scipy.stats import norm\n",
        "import matplotlib.pyplot as plt\n",
        "import numpy as np\n",
        "import warnings\n",
        "warnings.filterwarnings(\"ignore\")"
      ]
    },
    {
      "cell_type": "code",
      "source": [
        "reviews=pd.read_csv('https://raw.githubusercontent.com/unt-iialab/info5502-spring2022/main/finalexam/Software_Reviews_csv_files_S.csv',sep=',')\n",
        "print(str(\"!!!Reviews SET!!!\").center(100))\n",
        "print(reviews.head(5).to_string())"
      ],
      "metadata": {
        "colab": {
          "base_uri": "https://localhost:8080/"
        },
        "id": "UcPaOFaoHjAM",
        "outputId": "80a1b196-20ea-4003-f2b7-5c3710008cbe"
      },
      "execution_count": 58,
      "outputs": [
        {
          "output_type": "stream",
          "name": "stdout",
          "text": [
            "                                         !!!Reviews SET!!!                                          \n",
            "   Unnamed: 0 Unnamed: 0.1       id     status         global_review_id hash_global_review_id listing_id                                                                                      title is_rating     score     created OverAllRating Value For Money Ease of Use Features Customer Support Likelihood to recommned isAnonymous is_verified   full_name                     company_industry frequency_of_use    time_used          source incentivized ReviewDescription_score   Pros_score   Unnamed: 27\n",
            "0         0.0            0    13879  Published           GetApp___14383            f7535d1342      90666                                                          The best CRM solution we've found     FALSE  4.462893   8/25/2015             5               5           5        0                5                       0       FALSE        TRUE   Marcus B.  Information Technology and Services              NaN    1-2 years          GetApp          NaN             0.993886769  0.994333982  1.850533e+04\n",
            "1         1.0            1  1283833  Published  SoftwareAdvice___434035            8b72a5b935      90666                                               Reasonable CRM software for small businesses     FALSE  4.462893   6/22/2018             4               5           4        4                3                       9       FALSE       FALSE  Rushang D.            Marketing and Advertising            daily     2+ years  SoftwareAdvice  NominalGift             0.998566568   0.99880743  1.711777e+06\n",
            "2         2.0            2   841881  Published        Capterra___330384            0d580775b7      90666  Security certificate warning, basic lists inaccurate, clunky documents, HORRIBLE SUPPORT!     FALSE  4.462893  12/20/2017             1               1           1        1                1                       0       FALSE       FALSE   Julian G.                    Computer Hardware            daily  6-12 months        Capterra  NominalGift             0.999743998  0.996420145  1.122507e+06\n",
            "3         3.0            3  1060237  Published  SoftwareAdvice___390950            a36d0ef509      90666                                          1CRM is a great started CRM for a Service Company     FALSE  4.462893    4/4/2018             4               5           3        3                3                       8       FALSE       FALSE    James C.                Management Consulting            daily    1-2 years  SoftwareAdvice  NominalGift             0.938319802  0.986604214  1.413648e+06\n",
            "4         4.0            4    13939  Published           GetApp___14453            efc7312240      90666                                      Excellent business management app for the SMB segment     FALSE  4.462893   8/26/2015             5               5           5        0                5                       0       FALSE        TRUE  Jacques G.                   Telecommunications              NaN    1-2 years          GetApp          NaN             0.985312879  0.996334434  1.858400e+04\n"
          ]
        }
      ]
    },
    {
      "cell_type": "code",
      "source": [
        "#Checking For Null Values in both the datasets\n",
        "print(reviews.isnull().sum())\n",
        "print('\\nNote there are null values in the reviews Dataset,so need to delete them')"
      ],
      "metadata": {
        "colab": {
          "base_uri": "https://localhost:8080/"
        },
        "id": "5bofP24mHxnL",
        "outputId": "0ac7102a-503f-47b5-f710-acb117ba1df6"
      },
      "execution_count": 59,
      "outputs": [
        {
          "output_type": "stream",
          "name": "stdout",
          "text": [
            "Unnamed: 0                  11\n",
            "Unnamed: 0.1                 0\n",
            "id                           0\n",
            "status                       0\n",
            "global_review_id             0\n",
            "hash_global_review_id        0\n",
            "listing_id                   0\n",
            "title                      128\n",
            "is_rating                    0\n",
            "score                        0\n",
            "created                      0\n",
            "OverAllRating                0\n",
            "Value For Money              0\n",
            "Ease of Use                  0\n",
            "Features                     0\n",
            "Customer Support             0\n",
            "Likelihood to recommned      0\n",
            "isAnonymous                  0\n",
            "is_verified                  0\n",
            "full_name                    0\n",
            "company_industry           476\n",
            "frequency_of_use           424\n",
            "time_used                  313\n",
            "source                       0\n",
            "incentivized               667\n",
            "ReviewDescription_score      0\n",
            "Pros_score                   0\n",
            "Unnamed: 27                 11\n",
            "dtype: int64\n",
            "\n",
            "Note there are null values in the reviews Dataset,so need to delete them\n"
          ]
        }
      ]
    },
    {
      "cell_type": "code",
      "source": [
        "reviews.dropna(inplace=True)"
      ],
      "metadata": {
        "id": "VHYJrRflIGQX"
      },
      "execution_count": 60,
      "outputs": []
    },
    {
      "cell_type": "code",
      "source": [
        "#Checking For Null Values in both the datasets\n",
        "print(reviews.isnull().sum())\n",
        "print('\\nNote there are no null values in the reviews Dataset')"
      ],
      "metadata": {
        "colab": {
          "base_uri": "https://localhost:8080/"
        },
        "id": "vUQxkFPnIDfM",
        "outputId": "bbf50316-519b-4c47-dd57-9483e6d95f87"
      },
      "execution_count": 61,
      "outputs": [
        {
          "output_type": "stream",
          "name": "stdout",
          "text": [
            "Unnamed: 0                 0\n",
            "Unnamed: 0.1               0\n",
            "id                         0\n",
            "status                     0\n",
            "global_review_id           0\n",
            "hash_global_review_id      0\n",
            "listing_id                 0\n",
            "title                      0\n",
            "is_rating                  0\n",
            "score                      0\n",
            "created                    0\n",
            "OverAllRating              0\n",
            "Value For Money            0\n",
            "Ease of Use                0\n",
            "Features                   0\n",
            "Customer Support           0\n",
            "Likelihood to recommned    0\n",
            "isAnonymous                0\n",
            "is_verified                0\n",
            "full_name                  0\n",
            "company_industry           0\n",
            "frequency_of_use           0\n",
            "time_used                  0\n",
            "source                     0\n",
            "incentivized               0\n",
            "ReviewDescription_score    0\n",
            "Pros_score                 0\n",
            "Unnamed: 27                0\n",
            "dtype: int64\n",
            "\n",
            "Note there are no null values in the reviews Dataset\n"
          ]
        }
      ]
    },
    {
      "cell_type": "code",
      "source": [
        "#Checking For Duplicate values in the datasets\n",
        "print(reviews[reviews.duplicated()])\n",
        "print('Note there are no Duplicates in the Reviews Dataset\\n')"
      ],
      "metadata": {
        "colab": {
          "base_uri": "https://localhost:8080/"
        },
        "id": "4ajcPM8CIRNl",
        "outputId": "935d9a22-aaf7-461d-8e47-772443ccd259"
      },
      "execution_count": 62,
      "outputs": [
        {
          "output_type": "stream",
          "name": "stdout",
          "text": [
            "Empty DataFrame\n",
            "Columns: [Unnamed: 0, Unnamed: 0.1, id, status, global_review_id, hash_global_review_id, listing_id, title, is_rating, score, created, OverAllRating, Value For Money, Ease of Use, Features, Customer Support, Likelihood to recommned, isAnonymous, is_verified, full_name, company_industry, frequency_of_use, time_used, source, incentivized, ReviewDescription_score, Pros_score, Unnamed: 27]\n",
            "Index: []\n",
            "\n",
            "[0 rows x 28 columns]\n",
            "Note there are no Duplicates in the Reviews Dataset\n",
            "\n"
          ]
        }
      ]
    },
    {
      "cell_type": "code",
      "source": [
        "print(str('Group A Dataset').center(200))\n",
        "ADataset=reviews.loc[(reviews['incentivized']=='NominalGift') | (reviews['incentivized']=='VendorReferredIncentivized')]\n",
        "print(ADataset.head(5).to_string())"
      ],
      "metadata": {
        "colab": {
          "base_uri": "https://localhost:8080/"
        },
        "id": "kYyO1w1yJcPR",
        "outputId": "72d2d51c-a1a7-44fe-87f3-55d7b9fcefbb"
      },
      "execution_count": 63,
      "outputs": [
        {
          "output_type": "stream",
          "name": "stdout",
          "text": [
            "                                                                                            Group A Dataset                                                                                             \n",
            "    Unnamed: 0 Unnamed: 0.1       id     status         global_review_id hash_global_review_id listing_id                                                                                      title is_rating     score     created OverAllRating Value For Money Ease of Use Features Customer Support Likelihood to recommned isAnonymous is_verified   full_name           company_industry frequency_of_use           time_used          source incentivized ReviewDescription_score   Pros_score  Unnamed: 27\n",
            "1          1.0            1  1283833  Published  SoftwareAdvice___434035            8b72a5b935      90666                                               Reasonable CRM software for small businesses     FALSE  4.462893   6/22/2018             4               5           4        4                3                       9       FALSE       FALSE  Rushang D.  Marketing and Advertising            daily            2+ years  SoftwareAdvice  NominalGift             0.998566568   0.99880743  1711777.000\n",
            "2          2.0            2   841881  Published        Capterra___330384            0d580775b7      90666  Security certificate warning, basic lists inaccurate, clunky documents, HORRIBLE SUPPORT!     FALSE  4.462893  12/20/2017             1               1           1        1                1                       0       FALSE       FALSE   Julian G.          Computer Hardware            daily         6-12 months        Capterra  NominalGift             0.999743998  0.996420145  1122507.333\n",
            "3          3.0            3  1060237  Published  SoftwareAdvice___390950            a36d0ef509      90666                                          1CRM is a great started CRM for a Service Company     FALSE  4.462893    4/4/2018             4               5           3        3                3                       8       FALSE       FALSE    James C.      Management Consulting            daily           1-2 years  SoftwareAdvice  NominalGift             0.938319802  0.986604214  1413648.333\n",
            "17        17.0           17   846217  Published  SoftwareAdvice___341241            ec69ec93a9      90666                                                                   Functional & Easy To Use     FALSE  4.462893  12/22/2017             5               5           5        5                5                      10       FALSE       FALSE  Sabrina B.      Management Consulting            daily           1-2 years  SoftwareAdvice  NominalGift             0.999515414  0.999205172  1128283.667\n",
            "20        20.0           20  1300111  Published  SoftwareAdvice___436897            695de7bb9f      90666     good CRM, includes all the basics with focus in marketing, sales and customer support.     FALSE  4.462893   6/27/2018             5               0           4        4                0                       8       FALSE       FALSE     Jose R.      Management Consulting            daily  Less than 6 months  SoftwareAdvice  NominalGift             0.997060239  0.984327018  1733474.667\n"
          ]
        }
      ]
    },
    {
      "cell_type": "code",
      "source": [
        "print(str('Group B Dataset').center(200))\n",
        "BDataset=reviews.loc[(reviews['incentivized']=='NoIncentive') | (reviews['incentivized']=='VendorReferred')]\n",
        "print(BDataset.head(5).to_string())"
      ],
      "metadata": {
        "colab": {
          "base_uri": "https://localhost:8080/"
        },
        "id": "IA-oO2SvKeUV",
        "outputId": "38945a86-bc91-460d-e5d3-246d6b2f0eec"
      },
      "execution_count": 64,
      "outputs": [
        {
          "output_type": "stream",
          "name": "stdout",
          "text": [
            "                                                                                            Group B Dataset                                                                                             \n",
            "    Unnamed: 0 Unnamed: 0.1       id     status         global_review_id hash_global_review_id listing_id                                                    title is_rating     score     created OverAllRating Value For Money Ease of Use Features Customer Support Likelihood to recommned isAnonymous is_verified   full_name    company_industry frequency_of_use           time_used          source incentivized ReviewDescription_score   Pros_score  Unnamed: 27\n",
            "10        10.0           10  1301781  Published  SoftwareAdvice___437237            f1a6a9cfb4      90666           Great software that covers a lot of situations     FALSE  4.462893   6/27/2018             5               0           4        4                0                       9       FALSE       FALSE  Eduardo D.  Telecommunications            daily            2+ years  SoftwareAdvice  NoIncentive             0.792923093  0.957252979  1735704.667\n",
            "14        14.0           14   761397  Published  SoftwareAdvice___313796            390a7f4c1b      90666                                          Amazing support     FALSE  4.462893  10/24/2017             5               5           5        5                5                      10       FALSE       FALSE   marcus y.   Computer Software            daily            2+ years  SoftwareAdvice  NoIncentive              0.99984467  0.976857305  1015191.333\n",
            "16        16.0           16  1301447  Published  SoftwareAdvice___437193            a80426575d      90666  Solid, User Friendly and Great for non-technical people     FALSE  4.462893   6/27/2018             5               4           5        5                4                       9       FALSE       FALSE   Rickus W.   Computer Software            daily            2+ years  SoftwareAdvice  NoIncentive             0.999574721  0.971120834  1735257.333\n",
            "19        19.0           19   766563  Published  SoftwareAdvice___315016            53a9d03c78      90666                                  Best bang for your buck     FALSE  4.462893  10/27/2017             5               5           5        4                5                      10       FALSE       FALSE    Terry C.   Computer Software            daily         6-12 months  SoftwareAdvice  NoIncentive             0.995381117  0.755809307  1022077.667\n",
            "29        29.0           29  1322601  Published  SoftwareAdvice___440469            98e3c3a97b      90666                                  1CRM helped my business     FALSE  4.462893    7/4/2018             5               5           5        5                5                      10       FALSE       FALSE  Gilbert A.           Insurance            daily  Less than 6 months  SoftwareAdvice  NoIncentive             0.844004273  0.988325715  1763458.333\n"
          ]
        }
      ]
    },
    {
      "cell_type": "code",
      "source": [
        "ADataset['OverAllRating'] = ADataset['OverAllRating'].astype(float)\n",
        "BDataset['OverAllRating'] = BDataset['OverAllRating'].astype(float)"
      ],
      "metadata": {
        "id": "rrLngKA3ULMm"
      },
      "execution_count": 65,
      "outputs": []
    },
    {
      "cell_type": "code",
      "source": [
        "con = ADataset['OverAllRating'].shape[0]\n",
        "tar = BDataset['OverAllRating'].shape[0]\n",
        "\n",
        "# Significance Level\n",
        "alpha = 0.04\n",
        "\n",
        "mean_con = np.mean(ADataset['OverAllRating'])\n",
        "mean_tar = np.mean(BDataset['OverAllRating'])\n",
        "\n",
        "variance_con = np.var(ADataset['OverAllRating'])\n",
        "variance_tar = np.var(BDataset['OverAllRating'])\n",
        "\n",
        "# Test statistics and  value\n",
        "Z_crit =norm.ppf(1-alpha/2)\n",
        "T=(mean_con-mean_tar)/np.sqrt(variance_con/con + variance_tar/tar)\n",
        "\n",
        "#Variance\n",
        "variance = np.sqrt(variance_con/con + variance_tar/tar)\n",
        "m = Z_crit*variance\n",
        "P_Value = norm.sf(T)*2\n",
        "# Confidence Interval\n",
        "CI = [(mean_con - mean_tar) - m, (mean_con - mean_tar) + m]\n",
        "\n",
        "print(\"Test statistic: \", T)\n",
        "print(\"Confidence Interval: \", CI)\n",
        "print(\"Z value : \", Z_crit)\n",
        "print(\"P value: \", P_Value)"
      ],
      "metadata": {
        "colab": {
          "base_uri": "https://localhost:8080/"
        },
        "id": "fGgEvm-BQxry",
        "outputId": "f7a467f4-902c-4c4e-c70a-b8667371c725"
      },
      "execution_count": 66,
      "outputs": [
        {
          "output_type": "stream",
          "name": "stdout",
          "text": [
            "Test statistic:  -3.53942063214399\n",
            "Confidence Interval:  [-0.2212094377643422, -0.058758205647917325]\n",
            "Z value :  2.0537489106318225\n",
            "P value:  1.9995989936671095\n"
          ]
        }
      ]
    },
    {
      "cell_type": "code",
      "source": [
        "z = np.arange(-2,2,  0.1)\n",
        "plt.plot(z, norm.pdf(z), label = 'Normal Distribution',color = 'REd',linewidth = 2.5)\n",
        "plt.fill_between(z[z<(-1)*Z_crit], norm.pdf(z[z<(-1)*Z_crit]), label = 'LEFT REJECTION',color ='y' )\n",
        "plt.fill_between(z[z>Z_crit], norm.pdf(z[z>Z_crit]), label = 'RIGHT REJECTION',color ='y' )\n",
        "plt.title(\"Two Sample\")\n",
        "plt.legend()\n",
        "plt.show()"
      ],
      "metadata": {
        "colab": {
          "base_uri": "https://localhost:8080/",
          "height": 444
        },
        "id": "6ATIBBnwRSqp",
        "outputId": "c031266b-555c-41c1-b972-b078625f09db"
      },
      "execution_count": 67,
      "outputs": [
        {
          "output_type": "display_data",
          "data": {
            "text/plain": [
              "<Figure size 720x504 with 1 Axes>"
            ],
            "image/png": "[encoded data removed]"
          },
          "metadata": {
            "needs_background": "light"
          }
        }
      ]
    }
  ],
  "metadata": {
    "kernelspec": {
      "display_name": "Python 3",
      "language": "python",
      "name": "python3"
    },
    "language_info": {
      "codemirror_mode": {
        "name": "ipython",
        "version": 3
      },
      "file_extension": ".py",
      "mimetype": "text/x-python",
      "name": "python",
      "nbconvert_exporter": "python",
      "pygments_lexer": "ipython3",
      "version": "3.8.5"
    },
    "colab": {
      "name": "INFO 5502-Final Exam-Spring2022.ipynb",
      "provenance": [],
      "collapsed_sections": [],
      "include_colab_link": true
    }
  },
  "nbformat": 4,
  "nbformat_minor": 0
}